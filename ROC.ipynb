{
 "cells": [
  {
   "cell_type": "code",
   "execution_count": 34,
   "metadata": {},
   "outputs": [],
   "source": [
    "import pandas as pd\n",
    "import numpy as np\n",
    "from sklearn.model_selection import train_test_split\n",
    "from sklearn.tree import DecisionTreeClassifier\n",
    "from sklearn.ensemble import RandomForestClassifier, AdaBoostClassifier\n",
    "from sklearn.metrics import accuracy_score, classification_report\n",
    "from sklearn.metrics import confusion_matrix\n"
   ]
  },
  {
   "cell_type": "code",
   "execution_count": 38,
   "metadata": {},
   "outputs": [],
   "source": [
    "hr=pd.read_csv('C:/Users/Administrator/Documents/HR Analytics.csv')\n",
    "hr_dummies = pd.get_dummies(hr)\n",
    "\n",
    "\n",
    "train, test = train_test_split(hr_dummies,\n",
    "                               test_size=0.3,\n",
    "                               random_state=100)"
   ]
  },
  {
   "cell_type": "code",
   "execution_count": 20,
   "metadata": {},
   "outputs": [
    {
     "data": {
      "text/plain": [
       "AdaBoostClassifier(algorithm='SAMME.R', base_estimator=None,\n",
       "          learning_rate=1.0, n_estimators=300, random_state=100)"
      ]
     },
     "execution_count": 20,
     "metadata": {},
     "output_type": "execute_result"
    }
   ],
   "source": [
    "train_x = train.drop('Attrition', axis=1)\n",
    "train_y = train['Attrition']\n",
    "\n",
    "test_x = test.drop('Attrition', axis=1)\n",
    "test_y = test['Attrition']\n",
    "\n",
    "model = AdaBoostClassifier(random_state=100, n_estimators=300)\n",
    "model.fit(train_x, train_y)"
   ]
  },
  {
   "cell_type": "markdown",
   "metadata": {},
   "source": [
    "## ROC CURVES"
   ]
  },
  {
   "cell_type": "code",
   "execution_count": 21,
   "metadata": {},
   "outputs": [
    {
     "name": "stdout",
     "output_type": "stream",
     "text": [
      "0.44285714285714284 0.9380053908355795\n"
     ]
    }
   ],
   "source": [
    "pred_probs = pd.DataFrame(model.predict_proba(test_x),\n",
    "                          columns=['Neg', 'Pos'])\n",
    "pred_test = pred_probs['Pos'].apply(lambda v: 1 if v>0.5 else 0)\n",
    "\n",
    "tn, fp, fn, tp = confusion_matrix(test_y, pred_test).ravel()\n",
    "sensitivity = (tp)/ (tp+fn)\n",
    "specificity = tn / (tn+fp)\n",
    "print(sensitivity, specificity)"
   ]
  },
  {
   "cell_type": "code",
   "execution_count": 22,
   "metadata": {},
   "outputs": [
    {
     "name": "stdout",
     "output_type": "stream",
     "text": [
      "0.0\n",
      "0.1111111111111111\n",
      "0.2222222222222222\n",
      "0.3333333333333333\n",
      "0.4444444444444444\n",
      "0.5555555555555556\n",
      "0.6666666666666666\n",
      "0.7777777777777777\n",
      "0.8888888888888888\n",
      "1.0\n"
     ]
    },
    {
     "data": {
      "image/png": "[encoded data removed]",
      "text/plain": [
       "<matplotlib.figure.Figure at 0x2085ed40ef0>"
      ]
     },
     "metadata": {},
     "output_type": "display_data"
    }
   ],
   "source": [
    "thresholds = []\n",
    "tpr = []\n",
    "fpr = []\n",
    "pred_probs = pd.DataFrame(model.predict_proba(test_x),\n",
    "                         columns=['Neg','Pos'])\n",
    "for threshold in np.linspace(0,1,10):\n",
    "    print(threshold)\n",
    "    pred_test=pred_probs['Pos'].apply(lambda v: 1 if v>threshold else 0)\n",
    "    \n",
    "    tn, fp, fn, tp = confusion_matrix(test_y, pred_test).ravel()\n",
    "    sensitivity=(tp)/(tp+fn)\n",
    "    specificity=(tn)/(tn+fp)\n",
    "    \n",
    "    thresholds.append(threshold)\n",
    "    tpr.append(sensitivity)\n",
    "    fpr.append(1-specificity)\n",
    "import matplotlib.pyplot as plt\n",
    "plt.plot(fpr,tpr)\n",
    "plt.show()"
   ]
  },
  {
   "cell_type": "code",
   "execution_count": 23,
   "metadata": {},
   "outputs": [
    {
     "data": {
      "image/png": "[encoded data removed]",
      "text/plain": [
       "<matplotlib.figure.Figure at 0x2085eb8c860>"
      ]
     },
     "metadata": {},
     "output_type": "display_data"
    }
   ],
   "source": [
    "thresholds = []\n",
    "tpr = []\n",
    "fpr = []\n",
    "pred_probs = pd.DataFrame(model.predict_proba(test_x),\n",
    "                         columns=['Neg','Pos'])\n",
    "for threshold in np.linspace(0,1,1000):\n",
    "    #print(threshold)\n",
    "    pred_test=pred_probs['Pos'].apply(lambda v: 1 if v>threshold else 0)\n",
    "    \n",
    "    tn, fp, fn, tp = confusion_matrix(test_y, pred_test).ravel()\n",
    "    sensitivity=(tp)/(tp+fn)\n",
    "    specificity=(tn)/(tn+fp)\n",
    "    \n",
    "    thresholds.append(threshold)\n",
    "    tpr.append(sensitivity)\n",
    "    fpr.append(1-specificity)\n",
    "import matplotlib.pyplot as plt\n",
    "plt.plot(fpr,tpr)\n",
    "plt.show()"
   ]
  },
  {
   "cell_type": "code",
   "execution_count": 24,
   "metadata": {},
   "outputs": [
    {
     "data": {
      "text/html": [
       "<div>\n",
       "<style scoped>\n",
       "    .dataframe tbody tr th:only-of-type {\n",
       "        vertical-align: middle;\n",
       "    }\n",
       "\n",
       "    .dataframe tbody tr th {\n",
       "        vertical-align: top;\n",
       "    }\n",
       "\n",
       "    .dataframe thead th {\n",
       "        text-align: right;\n",
       "    }\n",
       "</style>\n",
       "<table border=\"1\" class=\"dataframe\">\n",
       "  <thead>\n",
       "    <tr style=\"text-align: right;\">\n",
       "      <th></th>\n",
       "      <th>Neg</th>\n",
       "      <th>Pos</th>\n",
       "    </tr>\n",
       "  </thead>\n",
       "  <tbody>\n",
       "    <tr>\n",
       "      <th>0</th>\n",
       "      <td>0.505518</td>\n",
       "      <td>0.494482</td>\n",
       "    </tr>\n",
       "    <tr>\n",
       "      <th>1</th>\n",
       "      <td>0.500373</td>\n",
       "      <td>0.499627</td>\n",
       "    </tr>\n",
       "    <tr>\n",
       "      <th>2</th>\n",
       "      <td>0.507268</td>\n",
       "      <td>0.492732</td>\n",
       "    </tr>\n",
       "    <tr>\n",
       "      <th>3</th>\n",
       "      <td>0.503500</td>\n",
       "      <td>0.496500</td>\n",
       "    </tr>\n",
       "    <tr>\n",
       "      <th>4</th>\n",
       "      <td>0.496951</td>\n",
       "      <td>0.503049</td>\n",
       "    </tr>\n",
       "    <tr>\n",
       "      <th>5</th>\n",
       "      <td>0.506037</td>\n",
       "      <td>0.493963</td>\n",
       "    </tr>\n",
       "    <tr>\n",
       "      <th>6</th>\n",
       "      <td>0.531745</td>\n",
       "      <td>0.468255</td>\n",
       "    </tr>\n",
       "    <tr>\n",
       "      <th>7</th>\n",
       "      <td>0.501289</td>\n",
       "      <td>0.498711</td>\n",
       "    </tr>\n",
       "    <tr>\n",
       "      <th>8</th>\n",
       "      <td>0.504927</td>\n",
       "      <td>0.495073</td>\n",
       "    </tr>\n",
       "    <tr>\n",
       "      <th>9</th>\n",
       "      <td>0.506389</td>\n",
       "      <td>0.493611</td>\n",
       "    </tr>\n",
       "    <tr>\n",
       "      <th>10</th>\n",
       "      <td>0.506773</td>\n",
       "      <td>0.493227</td>\n",
       "    </tr>\n",
       "    <tr>\n",
       "      <th>11</th>\n",
       "      <td>0.508243</td>\n",
       "      <td>0.491757</td>\n",
       "    </tr>\n",
       "    <tr>\n",
       "      <th>12</th>\n",
       "      <td>0.501567</td>\n",
       "      <td>0.498433</td>\n",
       "    </tr>\n",
       "    <tr>\n",
       "      <th>13</th>\n",
       "      <td>0.516405</td>\n",
       "      <td>0.483595</td>\n",
       "    </tr>\n",
       "    <tr>\n",
       "      <th>14</th>\n",
       "      <td>0.492090</td>\n",
       "      <td>0.507910</td>\n",
       "    </tr>\n",
       "    <tr>\n",
       "      <th>15</th>\n",
       "      <td>0.499972</td>\n",
       "      <td>0.500028</td>\n",
       "    </tr>\n",
       "    <tr>\n",
       "      <th>16</th>\n",
       "      <td>0.507547</td>\n",
       "      <td>0.492453</td>\n",
       "    </tr>\n",
       "    <tr>\n",
       "      <th>17</th>\n",
       "      <td>0.503462</td>\n",
       "      <td>0.496538</td>\n",
       "    </tr>\n",
       "    <tr>\n",
       "      <th>18</th>\n",
       "      <td>0.500419</td>\n",
       "      <td>0.499581</td>\n",
       "    </tr>\n",
       "    <tr>\n",
       "      <th>19</th>\n",
       "      <td>0.503441</td>\n",
       "      <td>0.496559</td>\n",
       "    </tr>\n",
       "    <tr>\n",
       "      <th>20</th>\n",
       "      <td>0.502316</td>\n",
       "      <td>0.497684</td>\n",
       "    </tr>\n",
       "    <tr>\n",
       "      <th>21</th>\n",
       "      <td>0.501833</td>\n",
       "      <td>0.498167</td>\n",
       "    </tr>\n",
       "    <tr>\n",
       "      <th>22</th>\n",
       "      <td>0.506041</td>\n",
       "      <td>0.493959</td>\n",
       "    </tr>\n",
       "    <tr>\n",
       "      <th>23</th>\n",
       "      <td>0.503983</td>\n",
       "      <td>0.496017</td>\n",
       "    </tr>\n",
       "    <tr>\n",
       "      <th>24</th>\n",
       "      <td>0.505292</td>\n",
       "      <td>0.494708</td>\n",
       "    </tr>\n",
       "    <tr>\n",
       "      <th>25</th>\n",
       "      <td>0.507703</td>\n",
       "      <td>0.492297</td>\n",
       "    </tr>\n",
       "    <tr>\n",
       "      <th>26</th>\n",
       "      <td>0.505562</td>\n",
       "      <td>0.494438</td>\n",
       "    </tr>\n",
       "    <tr>\n",
       "      <th>27</th>\n",
       "      <td>0.500535</td>\n",
       "      <td>0.499465</td>\n",
       "    </tr>\n",
       "    <tr>\n",
       "      <th>28</th>\n",
       "      <td>0.507123</td>\n",
       "      <td>0.492877</td>\n",
       "    </tr>\n",
       "    <tr>\n",
       "      <th>29</th>\n",
       "      <td>0.503045</td>\n",
       "      <td>0.496955</td>\n",
       "    </tr>\n",
       "    <tr>\n",
       "      <th>...</th>\n",
       "      <td>...</td>\n",
       "      <td>...</td>\n",
       "    </tr>\n",
       "    <tr>\n",
       "      <th>411</th>\n",
       "      <td>0.501954</td>\n",
       "      <td>0.498046</td>\n",
       "    </tr>\n",
       "    <tr>\n",
       "      <th>412</th>\n",
       "      <td>0.504921</td>\n",
       "      <td>0.495079</td>\n",
       "    </tr>\n",
       "    <tr>\n",
       "      <th>413</th>\n",
       "      <td>0.528414</td>\n",
       "      <td>0.471586</td>\n",
       "    </tr>\n",
       "    <tr>\n",
       "      <th>414</th>\n",
       "      <td>0.510410</td>\n",
       "      <td>0.489590</td>\n",
       "    </tr>\n",
       "    <tr>\n",
       "      <th>415</th>\n",
       "      <td>0.503868</td>\n",
       "      <td>0.496132</td>\n",
       "    </tr>\n",
       "    <tr>\n",
       "      <th>416</th>\n",
       "      <td>0.509959</td>\n",
       "      <td>0.490041</td>\n",
       "    </tr>\n",
       "    <tr>\n",
       "      <th>417</th>\n",
       "      <td>0.515876</td>\n",
       "      <td>0.484124</td>\n",
       "    </tr>\n",
       "    <tr>\n",
       "      <th>418</th>\n",
       "      <td>0.503229</td>\n",
       "      <td>0.496771</td>\n",
       "    </tr>\n",
       "    <tr>\n",
       "      <th>419</th>\n",
       "      <td>0.499287</td>\n",
       "      <td>0.500713</td>\n",
       "    </tr>\n",
       "    <tr>\n",
       "      <th>420</th>\n",
       "      <td>0.505387</td>\n",
       "      <td>0.494613</td>\n",
       "    </tr>\n",
       "    <tr>\n",
       "      <th>421</th>\n",
       "      <td>0.511555</td>\n",
       "      <td>0.488445</td>\n",
       "    </tr>\n",
       "    <tr>\n",
       "      <th>422</th>\n",
       "      <td>0.509544</td>\n",
       "      <td>0.490456</td>\n",
       "    </tr>\n",
       "    <tr>\n",
       "      <th>423</th>\n",
       "      <td>0.504946</td>\n",
       "      <td>0.495054</td>\n",
       "    </tr>\n",
       "    <tr>\n",
       "      <th>424</th>\n",
       "      <td>0.502767</td>\n",
       "      <td>0.497233</td>\n",
       "    </tr>\n",
       "    <tr>\n",
       "      <th>425</th>\n",
       "      <td>0.506773</td>\n",
       "      <td>0.493227</td>\n",
       "    </tr>\n",
       "    <tr>\n",
       "      <th>426</th>\n",
       "      <td>0.503171</td>\n",
       "      <td>0.496829</td>\n",
       "    </tr>\n",
       "    <tr>\n",
       "      <th>427</th>\n",
       "      <td>0.505989</td>\n",
       "      <td>0.494011</td>\n",
       "    </tr>\n",
       "    <tr>\n",
       "      <th>428</th>\n",
       "      <td>0.506723</td>\n",
       "      <td>0.493277</td>\n",
       "    </tr>\n",
       "    <tr>\n",
       "      <th>429</th>\n",
       "      <td>0.503648</td>\n",
       "      <td>0.496352</td>\n",
       "    </tr>\n",
       "    <tr>\n",
       "      <th>430</th>\n",
       "      <td>0.505195</td>\n",
       "      <td>0.494805</td>\n",
       "    </tr>\n",
       "    <tr>\n",
       "      <th>431</th>\n",
       "      <td>0.504416</td>\n",
       "      <td>0.495584</td>\n",
       "    </tr>\n",
       "    <tr>\n",
       "      <th>432</th>\n",
       "      <td>0.503341</td>\n",
       "      <td>0.496659</td>\n",
       "    </tr>\n",
       "    <tr>\n",
       "      <th>433</th>\n",
       "      <td>0.497402</td>\n",
       "      <td>0.502598</td>\n",
       "    </tr>\n",
       "    <tr>\n",
       "      <th>434</th>\n",
       "      <td>0.497663</td>\n",
       "      <td>0.502337</td>\n",
       "    </tr>\n",
       "    <tr>\n",
       "      <th>435</th>\n",
       "      <td>0.497167</td>\n",
       "      <td>0.502833</td>\n",
       "    </tr>\n",
       "    <tr>\n",
       "      <th>436</th>\n",
       "      <td>0.498884</td>\n",
       "      <td>0.501116</td>\n",
       "    </tr>\n",
       "    <tr>\n",
       "      <th>437</th>\n",
       "      <td>0.512654</td>\n",
       "      <td>0.487346</td>\n",
       "    </tr>\n",
       "    <tr>\n",
       "      <th>438</th>\n",
       "      <td>0.502661</td>\n",
       "      <td>0.497339</td>\n",
       "    </tr>\n",
       "    <tr>\n",
       "      <th>439</th>\n",
       "      <td>0.499868</td>\n",
       "      <td>0.500132</td>\n",
       "    </tr>\n",
       "    <tr>\n",
       "      <th>440</th>\n",
       "      <td>0.506169</td>\n",
       "      <td>0.493831</td>\n",
       "    </tr>\n",
       "  </tbody>\n",
       "</table>\n",
       "<p>441 rows × 2 columns</p>\n",
       "</div>"
      ],
      "text/plain": [
       "          Neg       Pos\n",
       "0    0.505518  0.494482\n",
       "1    0.500373  0.499627\n",
       "2    0.507268  0.492732\n",
       "3    0.503500  0.496500\n",
       "4    0.496951  0.503049\n",
       "5    0.506037  0.493963\n",
       "6    0.531745  0.468255\n",
       "7    0.501289  0.498711\n",
       "8    0.504927  0.495073\n",
       "9    0.506389  0.493611\n",
       "10   0.506773  0.493227\n",
       "11   0.508243  0.491757\n",
       "12   0.501567  0.498433\n",
       "13   0.516405  0.483595\n",
       "14   0.492090  0.507910\n",
       "15   0.499972  0.500028\n",
       "16   0.507547  0.492453\n",
       "17   0.503462  0.496538\n",
       "18   0.500419  0.499581\n",
       "19   0.503441  0.496559\n",
       "20   0.502316  0.497684\n",
       "21   0.501833  0.498167\n",
       "22   0.506041  0.493959\n",
       "23   0.503983  0.496017\n",
       "24   0.505292  0.494708\n",
       "25   0.507703  0.492297\n",
       "26   0.505562  0.494438\n",
       "27   0.500535  0.499465\n",
       "28   0.507123  0.492877\n",
       "29   0.503045  0.496955\n",
       "..        ...       ...\n",
       "411  0.501954  0.498046\n",
       "412  0.504921  0.495079\n",
       "413  0.528414  0.471586\n",
       "414  0.510410  0.489590\n",
       "415  0.503868  0.496132\n",
       "416  0.509959  0.490041\n",
       "417  0.515876  0.484124\n",
       "418  0.503229  0.496771\n",
       "419  0.499287  0.500713\n",
       "420  0.505387  0.494613\n",
       "421  0.511555  0.488445\n",
       "422  0.509544  0.490456\n",
       "423  0.504946  0.495054\n",
       "424  0.502767  0.497233\n",
       "425  0.506773  0.493227\n",
       "426  0.503171  0.496829\n",
       "427  0.505989  0.494011\n",
       "428  0.506723  0.493277\n",
       "429  0.503648  0.496352\n",
       "430  0.505195  0.494805\n",
       "431  0.504416  0.495584\n",
       "432  0.503341  0.496659\n",
       "433  0.497402  0.502598\n",
       "434  0.497663  0.502337\n",
       "435  0.497167  0.502833\n",
       "436  0.498884  0.501116\n",
       "437  0.512654  0.487346\n",
       "438  0.502661  0.497339\n",
       "439  0.499868  0.500132\n",
       "440  0.506169  0.493831\n",
       "\n",
       "[441 rows x 2 columns]"
      ]
     },
     "execution_count": 24,
     "metadata": {},
     "output_type": "execute_result"
    }
   ],
   "source": [
    "pred_probs"
   ]
  },
  {
   "cell_type": "code",
   "execution_count": 25,
   "metadata": {},
   "outputs": [
    {
     "name": "stdout",
     "output_type": "stream",
     "text": [
      "93\n",
      "[0.5093537  0.50425328 0.50421133 0.50339338 0.50304943 0.50293062\n",
      " 0.50262981 0.50238657 0.50233735 0.50182287 0.50182095 0.50168994\n",
      " 0.50151271 0.50130843 0.50111571 0.50110094 0.50101354 0.50071257\n",
      " 0.5007113  0.5006993  0.50065675 0.50054139 0.50053645 0.50031486\n",
      " 0.50017428 0.50005682 0.49987813 0.4998573  0.49946517 0.49943108\n",
      " 0.49933795 0.49932963 0.49910544 0.49906678 0.49880763 0.49878619\n",
      " 0.49855011 0.49852397 0.49851687 0.49849135 0.49843303 0.49839231\n",
      " 0.49828755 0.49828739 0.49815732 0.49804624 0.49779678 0.49778298\n",
      " 0.49770542 0.49768388 0.49752529 0.4975057  0.49749876 0.49747681\n",
      " 0.49741989 0.49736207 0.497297   0.49729175 0.49714284 0.49712333\n",
      " 0.49695391 0.4968628  0.49676364 0.49676281 0.49662644 0.49659524\n",
      " 0.49600665 0.49598357 0.49589263 0.49588745 0.49579927 0.49579347\n",
      " 0.49412885 0.49408714 0.49373279 0.49372081 0.49250707 0.49248315\n",
      " 0.49217828 0.49214339 0.49166432 0.49160871 0.49002598 0.48982005\n",
      " 0.48962365 0.48958974 0.48672141 0.48671911 0.47834658 0.47562001\n",
      " 0.47477027 0.47004477 0.43277316]\n"
     ]
    },
    {
     "data": {
      "image/png": "[encoded data removed]",
      "text/plain": [
       "<matplotlib.figure.Figure at 0x2085eb963c8>"
      ]
     },
     "metadata": {},
     "output_type": "display_data"
    }
   ],
   "source": [
    "from sklearn.metrics import roc_curve\n",
    "fpr,tpr,thresholds=roc_curve(test_y,pred_probs['Pos'])\n",
    "plt.plot(fpr,tpr)\n",
    "print(len(thresholds))\n",
    "print(thresholds)\n",
    "plt.show()"
   ]
  },
  {
   "cell_type": "code",
   "execution_count": 26,
   "metadata": {},
   "outputs": [
    {
     "data": {
      "image/png": "[encoded data removed]",
      "text/plain": [
       "<matplotlib.figure.Figure at 0x2085ec5abe0>"
      ]
     },
     "metadata": {},
     "output_type": "display_data"
    }
   ],
   "source": [
    "from sklearn.metrics import roc_curve\n",
    "fpr,tpr,thresholds=roc_curve(test_y,pred_probs['Pos'])\n",
    "plt.plot(fpr,tpr)\n",
    "plt.show()"
   ]
  },
  {
   "cell_type": "markdown",
   "metadata": {},
   "source": [
    "# Ada boost ROC curve"
   ]
  },
  {
   "cell_type": "code",
   "execution_count": 35,
   "metadata": {},
   "outputs": [
    {
     "data": {
      "image/png": "[encoded data removed]",
      "text/plain": [
       "<matplotlib.figure.Figure at 0x20860078630>"
      ]
     },
     "metadata": {},
     "output_type": "display_data"
    }
   ],
   "source": [
    "from sklearn.metrics import roc_curve\n",
    "#fpr_adaboost_300,tpr_adaboost_300, thr_adaboost_300=roc_curve(test_y,pred_probs['Pos'])\n",
    "fpr_adaboost_300,tpr_adaboost_300,thresholds=roc_curve(test_y,pred_probs['Pos'])\n",
    "plt.plot(fpr_adaboost_300,tpr_adaboost_300)\n",
    "plt.show()"
   ]
  },
  {
   "cell_type": "markdown",
   "metadata": {},
   "source": [
    "# DECISION TREE ROC CURVE"
   ]
  },
  {
   "cell_type": "code",
   "execution_count": 36,
   "metadata": {},
   "outputs": [
    {
     "data": {
      "image/png": "[encoded data removed]",
      "text/plain": [
       "<matplotlib.figure.Figure at 0x2086006cac8>"
      ]
     },
     "metadata": {},
     "output_type": "display_data"
    }
   ],
   "source": [
    "model_dt = DecisionTreeClassifier(random_state=100, max_depth=5)\n",
    "model_dt.fit(train_x, train_y)\n",
    "\n",
    "pred_probs_dt = pd.DataFrame(model_dt.predict_proba(test_x),columns=['Neg', 'Pos'])\n",
    "\n",
    "fpr_dt_5, tpr_dt_5, thr_dt_5 = roc_curve(test_y,pred_probs_dt['Pos'])\n",
    "plt.plot(fpr_dt_5,tpr_dt_5)\n",
    "plt.show()"
   ]
  },
  {
   "cell_type": "markdown",
   "metadata": {},
   "source": [
    "# RANDOM FOREST ROC CURVE"
   ]
  },
  {
   "cell_type": "code",
   "execution_count": 37,
   "metadata": {},
   "outputs": [
    {
     "data": {
      "image/png": "[encoded data removed]",
      "text/plain": [
       "<matplotlib.figure.Figure at 0x2085ff9cb00>"
      ]
     },
     "metadata": {},
     "output_type": "display_data"
    }
   ],
   "source": [
    "model_rf=RandomForestClassifier(random_state=100, n_estimators=300)\n",
    "model_rf.fit(train_x,train_y)\n",
    "pred_probs_rf=pd.DataFrame(model_rf.predict_proba(test_x),columns=['Neg','Pos'])\n",
    "\n",
    "fpr_rf_300, tpr_rf_300,thr_rf_300,=roc_curve(test_y,pred_probs_rf['Pos'])\n",
    "plt.plot(fpr_rf_300,tpr_rf_300)\n",
    "plt.show()"
   ]
  },
  {
   "cell_type": "markdown",
   "metadata": {},
   "source": [
    "# Ploting All 3 Together "
   ]
  },
  {
   "cell_type": "code",
   "execution_count": 30,
   "metadata": {},
   "outputs": [
    {
     "data": {
      "image/png": "[encoded data removed]",
      "text/plain": [
       "<matplotlib.figure.Figure at 0x2085ff6b2e8>"
      ]
     },
     "metadata": {},
     "output_type": "display_data"
    }
   ],
   "source": [
    "plt.plot(fpr_adaboost_300,tpr_adaboost_300)\n",
    "plt.plot(fpr_dt_5,tpr_dt_5)\n",
    "plt.plot(fpr_rf_300,tpr_rf_300)\n",
    "plt.legend(['Ada boost(300 estimators)','Decision tree (max depth=5)','Random forest (300 estimators)'])\n",
    "plt.show()"
   ]
  },
  {
   "cell_type": "markdown",
   "metadata": {},
   "source": [
    "# Ploting All 3 Together With Legend"
   ]
  },
  {
   "cell_type": "code",
   "execution_count": 31,
   "metadata": {},
   "outputs": [
    {
     "data": {
      "image/png": "[encoded data removed]",
      "text/plain": [
       "<matplotlib.figure.Figure at 0x208600d1748>"
      ]
     },
     "metadata": {},
     "output_type": "display_data"
    }
   ],
   "source": [
    "from sklearn.metrics import auc\n",
    "auc_adaboost_300 = auc(fpr_adaboost_300,tpr_adaboost_300)\n",
    "auc_dt_5=auc(fpr_dt_5,tpr_dt_5)\n",
    "auc_rf_300=auc(fpr_rf_300,tpr_rf_300)\n",
    "plt.plot(fpr_adaboost_300,tpr_adaboost_300)\n",
    "plt.plot(fpr_dt_5,tpr_dt_5)\n",
    "plt.plot(fpr_rf_300,tpr_rf_300)\n",
    "plt.legend(['adaboost(300 estimators)-AUC:%.3f'%auc_adaboost_300,\n",
    "           'decision tree (max depth=5)-AUC:%.3f'%auc_dt_5,\n",
    "           'Ramdom forest (300 estomators)-auc: %.3f'%auc_rf_300])\n",
    "plt.show()\n"
   ]
  },
  {
   "cell_type": "code",
   "execution_count": null,
   "metadata": {},
   "outputs": [],
   "source": []
  },
  {
   "cell_type": "markdown",
   "metadata": {},
   "source": [
    "# F1 Score"
   ]
  },
  {
   "cell_type": "raw",
   "metadata": {},
   "source": [
    "F1 score =    2 x precision x recall\n",
    "            -------------------------\n",
    "                precision + recall\n",
    "        \n",
    "        \n",
    "precision =     TP\n",
    "             -------\n",
    "             TP + FP"
   ]
  },
  {
   "cell_type": "code",
   "execution_count": 32,
   "metadata": {},
   "outputs": [
    {
     "data": {
      "text/plain": [
       "0.4999999999999999"
      ]
     },
     "execution_count": 32,
     "metadata": {},
     "output_type": "execute_result"
    }
   ],
   "source": [
    "from sklearn.metrics import f1_score\n",
    "\n",
    "pred_class=pred_probs['Pos'].apply(lambda v: 1 if v >0.5 else 0)\n",
    "\n",
    "f1_score(test_y,pred_class)"
   ]
  },
  {
   "cell_type": "code",
   "execution_count": 33,
   "metadata": {},
   "outputs": [
    {
     "name": "stdout",
     "output_type": "stream",
     "text": [
      "0.49 0.28314606741573034\n",
      "0.4901010101010101 0.28442437923250563\n",
      "0.4902020202020202 0.28442437923250563\n",
      "0.4903030303030303 0.2850678733031674\n",
      "0.4904040404040404 0.28636363636363643\n",
      "0.4905050505050505 0.2889908256880734\n",
      "0.4906060606060606 0.2896551724137931\n",
      "0.4907070707070707 0.2909930715935335\n",
      "0.4908080808080808 0.2937062937062937\n",
      "0.4909090909090909 0.29439252336448596\n",
      "0.491010101010101 0.2950819672131148\n",
      "0.4911111111111111 0.2964705882352941\n",
      "0.4912121212121212 0.2964705882352941\n",
      "0.4913131313131313 0.2978723404255319\n",
      "0.4914141414141414 0.29857819905213273\n",
      "0.4915151515151515 0.29857819905213273\n",
      "0.4916161616161616 0.2973621103117506\n",
      "0.4917171717171717 0.2995169082125604\n",
      "0.4918181818181818 0.3002421307506053\n",
      "0.4919191919191919 0.3031784841075795\n",
      "0.492020202020202 0.3046683046683047\n",
      "0.4921212121212121 0.3054187192118227\n",
      "0.4922222222222222 0.3057644110275689\n",
      "0.49232323232323233 0.30730478589420657\n",
      "0.49242424242424243 0.3088607594936709\n",
      "0.49252525252525253 0.30256410256410254\n",
      "0.49262626262626263 0.3033419023136247\n",
      "0.49272727272727274 0.3080939947780679\n",
      "0.49282828282828284 0.31216931216931215\n",
      "0.49292929292929294 0.31635388739946385\n",
      "0.49303030303030304 0.3189189189189189\n",
      "0.49313131313131314 0.3224043715846995\n",
      "0.49323232323232324 0.329608938547486\n",
      "0.49333333333333335 0.33146067415730335\n",
      "0.49343434343434345 0.33333333333333337\n",
      "0.49353535353535355 0.3342776203966006\n",
      "0.49363636363636365 0.33810888252148996\n",
      "0.49373737373737375 0.3372093023255814\n",
      "0.49383838383838385 0.3381924198250729\n",
      "0.49393939393939396 0.34421364985163205\n",
      "0.49404040404040406 0.35365853658536583\n",
      "0.49414141414141416 0.3507692307692307\n",
      "0.49424242424242426 0.3540372670807453\n",
      "0.49434343434343436 0.35736677115987464\n",
      "0.49444444444444446 0.3607594936708861\n",
      "0.49454545454545457 0.36538461538461536\n",
      "0.49464646464646467 0.37133550488599354\n",
      "0.49474747474747477 0.375\n",
      "0.49484848484848487 0.38127090301003347\n",
      "0.494949494949495 0.38383838383838387\n",
      "0.4950505050505051 0.38513513513513514\n",
      "0.4951515151515151 0.39041095890410954\n",
      "0.4952525252525252 0.397212543554007\n",
      "0.4953535353535353 0.39999999999999997\n",
      "0.4954545454545454 0.4028268551236749\n",
      "0.4955555555555555 0.4115523465703971\n",
      "0.49565656565656563 0.4191176470588235\n",
      "0.49575757575757573 0.4269662921348315\n",
      "0.49585858585858583 0.4258555133079848\n",
      "0.49595959595959593 0.423076923076923\n",
      "0.49606060606060604 0.4235294117647059\n",
      "0.49616161616161614 0.432\n",
      "0.49626262626262624 0.4337349397590362\n",
      "0.49636363636363634 0.4372469635627531\n",
      "0.49646464646464644 0.4426229508196721\n",
      "0.49656565656565654 0.453781512605042\n",
      "0.49666666666666665 0.452991452991453\n",
      "0.49676767676767675 0.4581497797356828\n",
      "0.49686868686868685 0.4657534246575342\n",
      "0.49696969696969695 0.4700460829493087\n",
      "0.49707070707070705 0.47441860465116276\n",
      "0.49717171717171715 0.4739336492890996\n",
      "0.49727272727272726 0.4830917874396136\n",
      "0.49737373737373736 0.4776119402985075\n",
      "0.49747474747474746 0.47474747474747475\n",
      "0.49757575757575756 0.46875000000000006\n",
      "0.49767676767676766 0.4736842105263159\n",
      "0.49777777777777776 0.47058823529411764\n",
      "0.49787878787878787 0.4725274725274726\n",
      "0.49797979797979797 0.48314606741573035\n",
      "0.49808080808080807 0.4772727272727273\n",
      "0.49818181818181817 0.4739884393063584\n",
      "0.49828282828282827 0.4739884393063584\n",
      "0.4983838383838384 0.4790419161676646\n",
      "0.4984848484848485 0.46625766871165647\n",
      "0.4985858585858586 0.4585987261146497\n",
      "0.4986868686868687 0.4736842105263158\n",
      "0.4987878787878788 0.472972972972973\n",
      "0.4988888888888889 0.47619047619047616\n",
      "0.498989898989899 0.47619047619047616\n",
      "0.4990909090909091 0.4689655172413793\n",
      "0.4991919191919192 0.4857142857142857\n",
      "0.4992929292929293 0.49275362318840576\n",
      "0.4993939393939394 0.4852941176470588\n",
      "0.4994949494949495 0.4848484848484849\n",
      "0.4995959595959596 0.49612403100775193\n",
      "0.4996969696969697 0.5\n",
      "0.4997979797979798 0.5039370078740157\n",
      "0.4998989898989899 0.49599999999999994\n",
      "0.5 0.4999999999999999\n"
     ]
    }
   ],
   "source": [
    "from sklearn.metrics import f1_score\n",
    "for threshold in np.linspace(0.49,0.5,100):\n",
    "    pred_class=pred_probs['Pos'].apply(lambda v: 1 if v>threshold else 0)\n",
    "    print(threshold,f1_score(test_y,pred_class))"
   ]
  },
  {
   "cell_type": "markdown",
   "metadata": {},
   "source": [
    "# Naive Bayes"
   ]
  },
  {
   "cell_type": "raw",
   "metadata": {},
   "source": [
    "MS=Marital Status\n",
    "G=Gender\n",
    "M=Male\n",
    "F=Female\n",
    "attr=Attrition\n",
    "P=Probability\n",
    "\n",
    "p(attr=0 | MS=Single) = p(G=M, MS=single | Attr=0) x P (attr = 0)\n",
    "                        -----------------------------------------\n",
    "                                p(G=M, MS=Single)\n",
    "                                \n",
    "                                \n",
    "p(attr=1 | G=M, MS=Single) = p(G=M, MS=single | Attr=1) x P (attr = 1)\n",
    "                             -----------------------------------------\n",
    "                                      p(G=M, MS=Single)\n",
    "                                      \n",
    "\n",
    "p(attr=0) =no of employees staying (trancisity)\n",
    "           --------------------------------------\n",
    "                   total no of employees\n",
    "\n",
    "\n",
    "p(attr=1) =no o f employees who left (trancisity)\n",
    "           --------------------------------------\n",
    "                   total no of employees\n"
   ]
  },
  {
   "cell_type": "code",
   "execution_count": 39,
   "metadata": {},
   "outputs": [
    {
     "data": {
      "text/plain": [
       "(862, 56)"
      ]
     },
     "execution_count": 39,
     "metadata": {},
     "output_type": "execute_result"
    }
   ],
   "source": [
    "train[train['Attrition']==0].shape"
   ]
  },
  {
   "cell_type": "raw",
   "metadata": {},
   "source": [
    "correlation only measures linear dependencies\n"
   ]
  },
  {
   "cell_type": "raw",
   "metadata": {},
   "source": [
    "calculate\n",
    "p(G=M,MS=Single | Attr=0)=p(G=M | Attr = 0) x P(MS=Single  | Attr = 0)"
   ]
  },
  {
   "cell_type": "code",
   "execution_count": 77,
   "metadata": {},
   "outputs": [
    {
     "data": {
      "text/plain": [
       "0.1658313639569124"
      ]
     },
     "execution_count": 77,
     "metadata": {},
     "output_type": "execute_result"
    }
   ],
   "source": [
    "#solution\n",
    "(train[(train['Attrition']==0) & (train['Gender_Male']==1)].shape[0])/train[(train['Attrition']==0)].shape[0] *\\\n",
    "(train[(train['Attrition']==0) & (train['MaritalStatus_Single']==1)].shape[0])/train[(train['Attrition']==0)].shape[0]"
   ]
  },
  {
   "cell_type": "code",
   "execution_count": null,
   "metadata": {},
   "outputs": [],
   "source": [
    "calculate\n",
    "p(G=M,MS=Single | Attr=0)=p(G=M | Attr = 0) x P(MS=Single  | Attr = 0)"
   ]
  },
  {
   "cell_type": "markdown",
   "metadata": {},
   "source": [
    "# pivit table"
   ]
  },
  {
   "cell_type": "code",
   "execution_count": 51,
   "metadata": {},
   "outputs": [
    {
     "data": {
      "text/html": [
       "<div>\n",
       "<style scoped>\n",
       "    .dataframe tbody tr th:only-of-type {\n",
       "        vertical-align: middle;\n",
       "    }\n",
       "\n",
       "    .dataframe tbody tr th {\n",
       "        vertical-align: top;\n",
       "    }\n",
       "\n",
       "    .dataframe thead th {\n",
       "        text-align: right;\n",
       "    }\n",
       "</style>\n",
       "<table border=\"1\" class=\"dataframe\">\n",
       "  <thead>\n",
       "    <tr style=\"text-align: right;\">\n",
       "      <th>Gender_Male</th>\n",
       "      <th>0</th>\n",
       "      <th>1</th>\n",
       "    </tr>\n",
       "    <tr>\n",
       "      <th>Attrition</th>\n",
       "      <th></th>\n",
       "      <th></th>\n",
       "    </tr>\n",
       "  </thead>\n",
       "  <tbody>\n",
       "    <tr>\n",
       "      <th>0</th>\n",
       "      <td>357</td>\n",
       "      <td>505</td>\n",
       "    </tr>\n",
       "    <tr>\n",
       "      <th>1</th>\n",
       "      <td>62</td>\n",
       "      <td>105</td>\n",
       "    </tr>\n",
       "  </tbody>\n",
       "</table>\n",
       "</div>"
      ],
      "text/plain": [
       "Gender_Male    0    1\n",
       "Attrition            \n",
       "0            357  505\n",
       "1             62  105"
      ]
     },
     "execution_count": 51,
     "metadata": {},
     "output_type": "execute_result"
    }
   ],
   "source": [
    "train.pivot_table (index='Attrition',columns='Gender_Male',\n",
    "                    values='EmployeeNumber', aggfunc='count')\n",
    "\n",
    "#0 --> Female\n",
    "#1 --> Male"
   ]
  },
  {
   "cell_type": "markdown",
   "metadata": {},
   "source": [
    "#### OR"
   ]
  },
  {
   "cell_type": "code",
   "execution_count": 60,
   "metadata": {},
   "outputs": [
    {
     "data": {
      "text/plain": [
       "Attrition\n",
       "0    862\n",
       "1    167\n",
       "dtype: int64"
      ]
     },
     "execution_count": 60,
     "metadata": {},
     "output_type": "execute_result"
    }
   ],
   "source": [
    "pd.crosstab(train['Attrition'],train['Gender_Male'])"
   ]
  },
  {
   "cell_type": "code",
   "execution_count": 55,
   "metadata": {},
   "outputs": [
    {
     "data": {
      "text/html": [
       "<div>\n",
       "<style scoped>\n",
       "    .dataframe tbody tr th:only-of-type {\n",
       "        vertical-align: middle;\n",
       "    }\n",
       "\n",
       "    .dataframe tbody tr th {\n",
       "        vertical-align: top;\n",
       "    }\n",
       "\n",
       "    .dataframe thead th {\n",
       "        text-align: right;\n",
       "    }\n",
       "</style>\n",
       "<table border=\"1\" class=\"dataframe\">\n",
       "  <thead>\n",
       "    <tr style=\"text-align: right;\">\n",
       "      <th>MaritalStatus</th>\n",
       "      <th>Divorced</th>\n",
       "      <th>Married</th>\n",
       "      <th>Single</th>\n",
       "    </tr>\n",
       "    <tr>\n",
       "      <th>Attrition</th>\n",
       "      <th></th>\n",
       "      <th></th>\n",
       "      <th></th>\n",
       "    </tr>\n",
       "  </thead>\n",
       "  <tbody>\n",
       "    <tr>\n",
       "      <th>0</th>\n",
       "      <td>210</td>\n",
       "      <td>408</td>\n",
       "      <td>244</td>\n",
       "    </tr>\n",
       "    <tr>\n",
       "      <th>1</th>\n",
       "      <td>25</td>\n",
       "      <td>57</td>\n",
       "      <td>85</td>\n",
       "    </tr>\n",
       "  </tbody>\n",
       "</table>\n",
       "</div>"
      ],
      "text/plain": [
       "MaritalStatus  Divorced  Married  Single\n",
       "Attrition                               \n",
       "0                   210      408     244\n",
       "1                    25       57      85"
      ]
     },
     "execution_count": 55,
     "metadata": {},
     "output_type": "execute_result"
    }
   ],
   "source": [
    "temp=hr.loc[train.index]#using hr directly and train data row label we use this command\n",
    "pd.crosstab(temp['Attrition'],temp['MaritalStatus'])"
   ]
  },
  {
   "cell_type": "code",
   "execution_count": 101,
   "metadata": {},
   "outputs": [
    {
     "data": {
      "text/html": [
       "<div>\n",
       "<style scoped>\n",
       "    .dataframe tbody tr th:only-of-type {\n",
       "        vertical-align: middle;\n",
       "    }\n",
       "\n",
       "    .dataframe tbody tr th {\n",
       "        vertical-align: top;\n",
       "    }\n",
       "\n",
       "    .dataframe thead th {\n",
       "        text-align: right;\n",
       "    }\n",
       "</style>\n",
       "<table border=\"1\" class=\"dataframe\">\n",
       "  <thead>\n",
       "    <tr style=\"text-align: right;\">\n",
       "      <th>Gender_Male</th>\n",
       "      <th>0</th>\n",
       "      <th>1</th>\n",
       "      <th>total</th>\n",
       "    </tr>\n",
       "  </thead>\n",
       "  <tbody>\n",
       "    <tr>\n",
       "      <th>0</th>\n",
       "      <td>357</td>\n",
       "      <td>505</td>\n",
       "      <td>862</td>\n",
       "    </tr>\n",
       "    <tr>\n",
       "      <th>1</th>\n",
       "      <td>62</td>\n",
       "      <td>105</td>\n",
       "      <td>167</td>\n",
       "    </tr>\n",
       "    <tr>\n",
       "      <th>total</th>\n",
       "      <td>419</td>\n",
       "      <td>610</td>\n",
       "      <td>1029</td>\n",
       "    </tr>\n",
       "  </tbody>\n",
       "</table>\n",
       "</div>"
      ],
      "text/plain": [
       "Gender_Male    0    1  total\n",
       "0            357  505    862\n",
       "1             62  105    167\n",
       "total        419  610   1029"
      ]
     },
     "execution_count": 101,
     "metadata": {},
     "output_type": "execute_result"
    }
   ],
   "source": [
    "a=pd.crosstab(train['Attrition'],train['Gender_Male'])\n",
    "a['total']=a.sum(axis=1)#for row sum use 'axis=1'\n",
    "\n",
    "a=pd.DataFrame(a)\n",
    "\n",
    "b=a.sum(axis=0)#sum of rows\n",
    "b=pd.DataFrame(b)#convert to data frame\n",
    "\n",
    "b=b.transpose()#converting rows into columns\n",
    "a=a.append(b,ignore_index=True)#append 'b' to 'a' and ignoring index\n",
    "\n",
    "\n",
    "a.rename(index={2:'total'},inplace=True)#rename index as total\n",
    "a\n",
    "\n"
   ]
  },
  {
   "cell_type": "code",
   "execution_count": 111,
   "metadata": {},
   "outputs": [
    {
     "data": {
      "text/html": [
       "<div>\n",
       "<style scoped>\n",
       "    .dataframe tbody tr th:only-of-type {\n",
       "        vertical-align: middle;\n",
       "    }\n",
       "\n",
       "    .dataframe tbody tr th {\n",
       "        vertical-align: top;\n",
       "    }\n",
       "\n",
       "    .dataframe thead th {\n",
       "        text-align: right;\n",
       "    }\n",
       "</style>\n",
       "<table border=\"1\" class=\"dataframe\">\n",
       "  <thead>\n",
       "    <tr style=\"text-align: right;\">\n",
       "      <th>MaritalStatus</th>\n",
       "      <th>Divorced</th>\n",
       "      <th>Married</th>\n",
       "      <th>Single</th>\n",
       "      <th>total</th>\n",
       "    </tr>\n",
       "  </thead>\n",
       "  <tbody>\n",
       "    <tr>\n",
       "      <th>0</th>\n",
       "      <td>210</td>\n",
       "      <td>408</td>\n",
       "      <td>244</td>\n",
       "      <td>862</td>\n",
       "    </tr>\n",
       "    <tr>\n",
       "      <th>1</th>\n",
       "      <td>25</td>\n",
       "      <td>57</td>\n",
       "      <td>85</td>\n",
       "      <td>167</td>\n",
       "    </tr>\n",
       "    <tr>\n",
       "      <th>total</th>\n",
       "      <td>235</td>\n",
       "      <td>465</td>\n",
       "      <td>329</td>\n",
       "      <td>1029</td>\n",
       "    </tr>\n",
       "  </tbody>\n",
       "</table>\n",
       "</div>"
      ],
      "text/plain": [
       "MaritalStatus  Divorced  Married  Single  total\n",
       "0                   210      408     244    862\n",
       "1                    25       57      85    167\n",
       "total               235      465     329   1029"
      ]
     },
     "execution_count": 111,
     "metadata": {},
     "output_type": "execute_result"
    }
   ],
   "source": [
    "temp=hr.loc[train.index]#using hr directly and train data row label we use this command\n",
    "c=pd.crosstab(temp['Attrition'],temp['MaritalStatus'])\n",
    "c['total']=c.sum(axis=1)\n",
    "d=c.sum(axis=0)\n",
    "d=d.transpose()\n",
    "c=c.append(d,ignore_index=True)\n",
    "c.rename(index={2:'total'},inplace=True)\n",
    "c"
   ]
  },
  {
   "cell_type": "markdown",
   "metadata": {},
   "source": [
    "# Binning Numerical Columns\n"
   ]
  },
  {
   "cell_type": "code",
   "execution_count": 114,
   "metadata": {
    "collapsed": true
   },
   "outputs": [
    {
     "data": {
      "text/plain": [
       "178     46\n",
       "971     51\n",
       "1172    29\n",
       "667     41\n",
       "399     31\n",
       "634     25\n",
       "266     31\n",
       "210     32\n",
       "318     27\n",
       "239     32\n",
       "1002    35\n",
       "519     29\n",
       "1425    33\n",
       "390     43\n",
       "892     19\n",
       "1297    26\n",
       "342     31\n",
       "114     34\n",
       "619     33\n",
       "365     46\n",
       "308     58\n",
       "1322    46\n",
       "715     33\n",
       "1087    34\n",
       "25      53\n",
       "591     33\n",
       "88      30\n",
       "669     39\n",
       "924     35\n",
       "111     34\n",
       "        ..\n",
       "2       37\n",
       "1360    31\n",
       "763     34\n",
       "967     40\n",
       "782     30\n",
       "317     52\n",
       "49      35\n",
       "135     36\n",
       "835     35\n",
       "603     45\n",
       "1028    41\n",
       "612     28\n",
       "757     34\n",
       "1165    44\n",
       "897     59\n",
       "415     34\n",
       "386     37\n",
       "86      23\n",
       "1117    34\n",
       "912     26\n",
       "1340    36\n",
       "1252    34\n",
       "280     53\n",
       "752     36\n",
       "1009    58\n",
       "802     33\n",
       "53      35\n",
       "350     42\n",
       "79      46\n",
       "792     33\n",
       "Name: Age, Length: 1029, dtype: int64"
      ]
     },
     "execution_count": 114,
     "metadata": {},
     "output_type": "execute_result"
    }
   ],
   "source": [
    "train['Age']"
   ]
  },
  {
   "cell_type": "raw",
   "metadata": {},
   "source": [
    "now devide them\n",
    "if u know the domain just devide them elsle devide them into quartile values"
   ]
  },
  {
   "cell_type": "markdown",
   "metadata": {},
   "source": [
    "# using qartile deviding values"
   ]
  },
  {
   "cell_type": "code",
   "execution_count": 116,
   "metadata": {},
   "outputs": [
    {
     "data": {
      "text/plain": [
       "0.00    18.0\n",
       "0.25    30.0\n",
       "0.50    36.0\n",
       "0.75    42.0\n",
       "1.00    60.0\n",
       "Name: Age, dtype: float64"
      ]
     },
     "execution_count": 116,
     "metadata": {},
     "output_type": "execute_result"
    }
   ],
   "source": [
    "train['Age'].quantile([0,.25,.5,.75,1])"
   ]
  },
  {
   "cell_type": "raw",
   "metadata": {},
   "source": [
    "now group 1 for 18 - 29\n",
    "now group 2 for 30 - 35\n",
    "now group 3 for 36 - 41\n",
    "now group 4 for 42 - 59\n",
    "now group 5 for 60"
   ]
  },
  {
   "cell_type": "code",
   "execution_count": 137,
   "metadata": {},
   "outputs": [
    {
     "data": {
      "text/html": [
       "<div>\n",
       "<style scoped>\n",
       "    .dataframe tbody tr th:only-of-type {\n",
       "        vertical-align: middle;\n",
       "    }\n",
       "\n",
       "    .dataframe tbody tr th {\n",
       "        vertical-align: top;\n",
       "    }\n",
       "\n",
       "    .dataframe thead th {\n",
       "        text-align: right;\n",
       "    }\n",
       "</style>\n",
       "<table border=\"1\" class=\"dataframe\">\n",
       "  <thead>\n",
       "    <tr style=\"text-align: right;\">\n",
       "      <th></th>\n",
       "      <th>Age</th>\n",
       "      <th>Age_Group</th>\n",
       "    </tr>\n",
       "  </thead>\n",
       "  <tbody>\n",
       "    <tr>\n",
       "      <th>178</th>\n",
       "      <td>46</td>\n",
       "      <td>Group-4</td>\n",
       "    </tr>\n",
       "    <tr>\n",
       "      <th>971</th>\n",
       "      <td>51</td>\n",
       "      <td>Group-4</td>\n",
       "    </tr>\n",
       "    <tr>\n",
       "      <th>1172</th>\n",
       "      <td>29</td>\n",
       "      <td>Group-1</td>\n",
       "    </tr>\n",
       "    <tr>\n",
       "      <th>667</th>\n",
       "      <td>41</td>\n",
       "      <td>Group-3</td>\n",
       "    </tr>\n",
       "    <tr>\n",
       "      <th>399</th>\n",
       "      <td>31</td>\n",
       "      <td>Group-2</td>\n",
       "    </tr>\n",
       "  </tbody>\n",
       "</table>\n",
       "</div>"
      ],
      "text/plain": [
       "      Age Age_Group\n",
       "178    46   Group-4\n",
       "971    51   Group-4\n",
       "1172   29   Group-1\n",
       "667    41   Group-3\n",
       "399    31   Group-2"
      ]
     },
     "execution_count": 137,
     "metadata": {},
     "output_type": "execute_result"
    }
   ],
   "source": [
    "bins=train['Age'].quantile([0, 0.25, 0.5, 0.75, 1]).values\n",
    "\n",
    "train['Age_Group'] = np.digitize(train['Age'] , bins = bins)\n",
    "\n",
    "train['Age_Group'] = train['Age_Group'].apply(lambda v: 'Group-' + str (v))\n",
    "\n",
    "df=train[['Age','Age_Group']]\n",
    "df=pd.DataFrame(df)\n",
    "df.head()\n"
   ]
  },
  {
   "cell_type": "code",
   "execution_count": 139,
   "metadata": {},
   "outputs": [
    {
     "data": {
      "text/html": [
       "<div>\n",
       "<style scoped>\n",
       "    .dataframe tbody tr th:only-of-type {\n",
       "        vertical-align: middle;\n",
       "    }\n",
       "\n",
       "    .dataframe tbody tr th {\n",
       "        vertical-align: top;\n",
       "    }\n",
       "\n",
       "    .dataframe thead th {\n",
       "        text-align: right;\n",
       "    }\n",
       "</style>\n",
       "<table border=\"1\" class=\"dataframe\">\n",
       "  <thead>\n",
       "    <tr style=\"text-align: right;\">\n",
       "      <th></th>\n",
       "      <th>Age_Group</th>\n",
       "    </tr>\n",
       "  </thead>\n",
       "  <tbody>\n",
       "    <tr>\n",
       "      <th>879</th>\n",
       "      <td>Group-5</td>\n",
       "    </tr>\n",
       "    <tr>\n",
       "      <th>1209</th>\n",
       "      <td>Group-5</td>\n",
       "    </tr>\n",
       "  </tbody>\n",
       "</table>\n",
       "</div>"
      ],
      "text/plain": [
       "     Age_Group\n",
       "879    Group-5\n",
       "1209   Group-5"
      ]
     },
     "execution_count": 139,
     "metadata": {},
     "output_type": "execute_result"
    }
   ],
   "source": [
    "train[train.Age==60][['Age_Group']]"
   ]
  },
  {
   "cell_type": "code",
   "execution_count": 142,
   "metadata": {
    "collapsed": true
   },
   "outputs": [
    {
     "data": {
      "text/html": [
       "<div>\n",
       "<style scoped>\n",
       "    .dataframe tbody tr th:only-of-type {\n",
       "        vertical-align: middle;\n",
       "    }\n",
       "\n",
       "    .dataframe tbody tr th {\n",
       "        vertical-align: top;\n",
       "    }\n",
       "\n",
       "    .dataframe thead th {\n",
       "        text-align: right;\n",
       "    }\n",
       "</style>\n",
       "<table border=\"1\" class=\"dataframe\">\n",
       "  <thead>\n",
       "    <tr style=\"text-align: right;\">\n",
       "      <th></th>\n",
       "      <th>Neg</th>\n",
       "      <th>Pos</th>\n",
       "    </tr>\n",
       "  </thead>\n",
       "  <tbody>\n",
       "    <tr>\n",
       "      <th>0</th>\n",
       "      <td>0.828177</td>\n",
       "      <td>0.171823</td>\n",
       "    </tr>\n",
       "    <tr>\n",
       "      <th>1</th>\n",
       "      <td>0.891758</td>\n",
       "      <td>0.108242</td>\n",
       "    </tr>\n",
       "    <tr>\n",
       "      <th>2</th>\n",
       "      <td>0.869212</td>\n",
       "      <td>0.130788</td>\n",
       "    </tr>\n",
       "    <tr>\n",
       "      <th>3</th>\n",
       "      <td>0.842785</td>\n",
       "      <td>0.157215</td>\n",
       "    </tr>\n",
       "    <tr>\n",
       "      <th>4</th>\n",
       "      <td>0.891949</td>\n",
       "      <td>0.108051</td>\n",
       "    </tr>\n",
       "    <tr>\n",
       "      <th>5</th>\n",
       "      <td>0.849143</td>\n",
       "      <td>0.150857</td>\n",
       "    </tr>\n",
       "    <tr>\n",
       "      <th>6</th>\n",
       "      <td>0.849143</td>\n",
       "      <td>0.150857</td>\n",
       "    </tr>\n",
       "    <tr>\n",
       "      <th>7</th>\n",
       "      <td>0.889010</td>\n",
       "      <td>0.110990</td>\n",
       "    </tr>\n",
       "    <tr>\n",
       "      <th>8</th>\n",
       "      <td>0.864929</td>\n",
       "      <td>0.135071</td>\n",
       "    </tr>\n",
       "    <tr>\n",
       "      <th>9</th>\n",
       "      <td>0.869212</td>\n",
       "      <td>0.130788</td>\n",
       "    </tr>\n",
       "    <tr>\n",
       "      <th>10</th>\n",
       "      <td>0.869212</td>\n",
       "      <td>0.130788</td>\n",
       "    </tr>\n",
       "    <tr>\n",
       "      <th>11</th>\n",
       "      <td>0.849143</td>\n",
       "      <td>0.150857</td>\n",
       "    </tr>\n",
       "    <tr>\n",
       "      <th>12</th>\n",
       "      <td>0.890667</td>\n",
       "      <td>0.109333</td>\n",
       "    </tr>\n",
       "    <tr>\n",
       "      <th>13</th>\n",
       "      <td>0.888222</td>\n",
       "      <td>0.111778</td>\n",
       "    </tr>\n",
       "    <tr>\n",
       "      <th>14</th>\n",
       "      <td>0.645180</td>\n",
       "      <td>0.354820</td>\n",
       "    </tr>\n",
       "    <tr>\n",
       "      <th>15</th>\n",
       "      <td>0.790042</td>\n",
       "      <td>0.209958</td>\n",
       "    </tr>\n",
       "    <tr>\n",
       "      <th>16</th>\n",
       "      <td>0.885679</td>\n",
       "      <td>0.114321</td>\n",
       "    </tr>\n",
       "    <tr>\n",
       "      <th>17</th>\n",
       "      <td>0.842785</td>\n",
       "      <td>0.157215</td>\n",
       "    </tr>\n",
       "    <tr>\n",
       "      <th>18</th>\n",
       "      <td>0.889593</td>\n",
       "      <td>0.110407</td>\n",
       "    </tr>\n",
       "    <tr>\n",
       "      <th>19</th>\n",
       "      <td>0.854928</td>\n",
       "      <td>0.145072</td>\n",
       "    </tr>\n",
       "    <tr>\n",
       "      <th>20</th>\n",
       "      <td>0.835811</td>\n",
       "      <td>0.164189</td>\n",
       "    </tr>\n",
       "    <tr>\n",
       "      <th>21</th>\n",
       "      <td>0.842785</td>\n",
       "      <td>0.157215</td>\n",
       "    </tr>\n",
       "    <tr>\n",
       "      <th>22</th>\n",
       "      <td>0.828177</td>\n",
       "      <td>0.171823</td>\n",
       "    </tr>\n",
       "    <tr>\n",
       "      <th>23</th>\n",
       "      <td>0.819835</td>\n",
       "      <td>0.180165</td>\n",
       "    </tr>\n",
       "    <tr>\n",
       "      <th>24</th>\n",
       "      <td>0.765654</td>\n",
       "      <td>0.234346</td>\n",
       "    </tr>\n",
       "    <tr>\n",
       "      <th>25</th>\n",
       "      <td>0.790042</td>\n",
       "      <td>0.209958</td>\n",
       "    </tr>\n",
       "    <tr>\n",
       "      <th>26</th>\n",
       "      <td>0.873058</td>\n",
       "      <td>0.126942</td>\n",
       "    </tr>\n",
       "    <tr>\n",
       "      <th>27</th>\n",
       "      <td>0.889593</td>\n",
       "      <td>0.110407</td>\n",
       "    </tr>\n",
       "    <tr>\n",
       "      <th>28</th>\n",
       "      <td>0.842785</td>\n",
       "      <td>0.157215</td>\n",
       "    </tr>\n",
       "    <tr>\n",
       "      <th>29</th>\n",
       "      <td>0.790042</td>\n",
       "      <td>0.209958</td>\n",
       "    </tr>\n",
       "    <tr>\n",
       "      <th>...</th>\n",
       "      <td>...</td>\n",
       "      <td>...</td>\n",
       "    </tr>\n",
       "    <tr>\n",
       "      <th>411</th>\n",
       "      <td>0.765654</td>\n",
       "      <td>0.234346</td>\n",
       "    </tr>\n",
       "    <tr>\n",
       "      <th>412</th>\n",
       "      <td>0.869212</td>\n",
       "      <td>0.130788</td>\n",
       "    </tr>\n",
       "    <tr>\n",
       "      <th>413</th>\n",
       "      <td>0.685659</td>\n",
       "      <td>0.314341</td>\n",
       "    </tr>\n",
       "    <tr>\n",
       "      <th>414</th>\n",
       "      <td>0.828177</td>\n",
       "      <td>0.171823</td>\n",
       "    </tr>\n",
       "    <tr>\n",
       "      <th>415</th>\n",
       "      <td>0.623062</td>\n",
       "      <td>0.376938</td>\n",
       "    </tr>\n",
       "    <tr>\n",
       "      <th>416</th>\n",
       "      <td>0.886543</td>\n",
       "      <td>0.113457</td>\n",
       "    </tr>\n",
       "    <tr>\n",
       "      <th>417</th>\n",
       "      <td>0.882215</td>\n",
       "      <td>0.117785</td>\n",
       "    </tr>\n",
       "    <tr>\n",
       "      <th>418</th>\n",
       "      <td>0.860179</td>\n",
       "      <td>0.139821</td>\n",
       "    </tr>\n",
       "    <tr>\n",
       "      <th>419</th>\n",
       "      <td>0.819835</td>\n",
       "      <td>0.180165</td>\n",
       "    </tr>\n",
       "    <tr>\n",
       "      <th>420</th>\n",
       "      <td>0.889593</td>\n",
       "      <td>0.110407</td>\n",
       "    </tr>\n",
       "    <tr>\n",
       "      <th>421</th>\n",
       "      <td>0.873058</td>\n",
       "      <td>0.126942</td>\n",
       "    </tr>\n",
       "    <tr>\n",
       "      <th>422</th>\n",
       "      <td>0.819835</td>\n",
       "      <td>0.180165</td>\n",
       "    </tr>\n",
       "    <tr>\n",
       "      <th>423</th>\n",
       "      <td>0.869212</td>\n",
       "      <td>0.130788</td>\n",
       "    </tr>\n",
       "    <tr>\n",
       "      <th>424</th>\n",
       "      <td>0.849143</td>\n",
       "      <td>0.150857</td>\n",
       "    </tr>\n",
       "    <tr>\n",
       "      <th>425</th>\n",
       "      <td>0.842785</td>\n",
       "      <td>0.157215</td>\n",
       "    </tr>\n",
       "    <tr>\n",
       "      <th>426</th>\n",
       "      <td>0.828177</td>\n",
       "      <td>0.171823</td>\n",
       "    </tr>\n",
       "    <tr>\n",
       "      <th>427</th>\n",
       "      <td>0.810735</td>\n",
       "      <td>0.189265</td>\n",
       "    </tr>\n",
       "    <tr>\n",
       "      <th>428</th>\n",
       "      <td>0.721164</td>\n",
       "      <td>0.278836</td>\n",
       "    </tr>\n",
       "    <tr>\n",
       "      <th>429</th>\n",
       "      <td>0.854928</td>\n",
       "      <td>0.145072</td>\n",
       "    </tr>\n",
       "    <tr>\n",
       "      <th>430</th>\n",
       "      <td>0.828177</td>\n",
       "      <td>0.171823</td>\n",
       "    </tr>\n",
       "    <tr>\n",
       "      <th>431</th>\n",
       "      <td>0.765654</td>\n",
       "      <td>0.234346</td>\n",
       "    </tr>\n",
       "    <tr>\n",
       "      <th>432</th>\n",
       "      <td>0.849143</td>\n",
       "      <td>0.150857</td>\n",
       "    </tr>\n",
       "    <tr>\n",
       "      <th>433</th>\n",
       "      <td>0.800822</td>\n",
       "      <td>0.199178</td>\n",
       "    </tr>\n",
       "    <tr>\n",
       "      <th>434</th>\n",
       "      <td>0.765654</td>\n",
       "      <td>0.234346</td>\n",
       "    </tr>\n",
       "    <tr>\n",
       "      <th>435</th>\n",
       "      <td>0.864929</td>\n",
       "      <td>0.135071</td>\n",
       "    </tr>\n",
       "    <tr>\n",
       "      <th>436</th>\n",
       "      <td>0.854928</td>\n",
       "      <td>0.145072</td>\n",
       "    </tr>\n",
       "    <tr>\n",
       "      <th>437</th>\n",
       "      <td>0.828177</td>\n",
       "      <td>0.171823</td>\n",
       "    </tr>\n",
       "    <tr>\n",
       "      <th>438</th>\n",
       "      <td>0.737119</td>\n",
       "      <td>0.262881</td>\n",
       "    </tr>\n",
       "    <tr>\n",
       "      <th>439</th>\n",
       "      <td>0.765654</td>\n",
       "      <td>0.234346</td>\n",
       "    </tr>\n",
       "    <tr>\n",
       "      <th>440</th>\n",
       "      <td>0.835811</td>\n",
       "      <td>0.164189</td>\n",
       "    </tr>\n",
       "  </tbody>\n",
       "</table>\n",
       "<p>441 rows × 2 columns</p>\n",
       "</div>"
      ],
      "text/plain": [
       "          Neg       Pos\n",
       "0    0.828177  0.171823\n",
       "1    0.891758  0.108242\n",
       "2    0.869212  0.130788\n",
       "3    0.842785  0.157215\n",
       "4    0.891949  0.108051\n",
       "5    0.849143  0.150857\n",
       "6    0.849143  0.150857\n",
       "7    0.889010  0.110990\n",
       "8    0.864929  0.135071\n",
       "9    0.869212  0.130788\n",
       "10   0.869212  0.130788\n",
       "11   0.849143  0.150857\n",
       "12   0.890667  0.109333\n",
       "13   0.888222  0.111778\n",
       "14   0.645180  0.354820\n",
       "15   0.790042  0.209958\n",
       "16   0.885679  0.114321\n",
       "17   0.842785  0.157215\n",
       "18   0.889593  0.110407\n",
       "19   0.854928  0.145072\n",
       "20   0.835811  0.164189\n",
       "21   0.842785  0.157215\n",
       "22   0.828177  0.171823\n",
       "23   0.819835  0.180165\n",
       "24   0.765654  0.234346\n",
       "25   0.790042  0.209958\n",
       "26   0.873058  0.126942\n",
       "27   0.889593  0.110407\n",
       "28   0.842785  0.157215\n",
       "29   0.790042  0.209958\n",
       "..        ...       ...\n",
       "411  0.765654  0.234346\n",
       "412  0.869212  0.130788\n",
       "413  0.685659  0.314341\n",
       "414  0.828177  0.171823\n",
       "415  0.623062  0.376938\n",
       "416  0.886543  0.113457\n",
       "417  0.882215  0.117785\n",
       "418  0.860179  0.139821\n",
       "419  0.819835  0.180165\n",
       "420  0.889593  0.110407\n",
       "421  0.873058  0.126942\n",
       "422  0.819835  0.180165\n",
       "423  0.869212  0.130788\n",
       "424  0.849143  0.150857\n",
       "425  0.842785  0.157215\n",
       "426  0.828177  0.171823\n",
       "427  0.810735  0.189265\n",
       "428  0.721164  0.278836\n",
       "429  0.854928  0.145072\n",
       "430  0.828177  0.171823\n",
       "431  0.765654  0.234346\n",
       "432  0.849143  0.150857\n",
       "433  0.800822  0.199178\n",
       "434  0.765654  0.234346\n",
       "435  0.864929  0.135071\n",
       "436  0.854928  0.145072\n",
       "437  0.828177  0.171823\n",
       "438  0.737119  0.262881\n",
       "439  0.765654  0.234346\n",
       "440  0.835811  0.164189\n",
       "\n",
       "[441 rows x 2 columns]"
      ]
     },
     "execution_count": 142,
     "metadata": {},
     "output_type": "execute_result"
    }
   ],
   "source": [
    "from sklearn.naive_bayes import GaussianNB\n",
    "model_nb = GaussianNB()\n",
    "model_nb.fit(train[['Age']],train_y)\n",
    "pd.DataFrame(model_nb.predict_proba(test[[\"Age\"]]),\n",
    "            columns=['Neg','Pos'])"
   ]
  },
  {
   "cell_type": "code",
   "execution_count": 143,
   "metadata": {},
   "outputs": [
    {
     "data": {
      "text/plain": [
       "Attrition\n",
       "0    75.070634\n",
       "1    96.484453\n",
       "Name: Age, dtype: float64"
      ]
     },
     "execution_count": 143,
     "metadata": {},
     "output_type": "execute_result"
    }
   ],
   "source": [
    "train.groupby(\"Attrition\")['Age'].var()"
   ]
  },
  {
   "cell_type": "code",
   "execution_count": 164,
   "metadata": {},
   "outputs": [
    {
     "data": {
      "text/plain": [
       "0.0313446691266815"
      ]
     },
     "execution_count": 164,
     "metadata": {},
     "output_type": "execute_result"
    }
   ],
   "source": [
    "mu_y=37.581206\n",
    "sigma_y2=75.070634\n",
    "\n",
    "p_attr_32=(1 / np.sqrt(2 * np.pi * sigma_y2)) * \\\n",
    "            np.exp(-1 * np.square(32-mu_y)/(2*sigma_y2))\n",
    "\n",
    "p_attr_0=train[train['Attrition']==0].shape[0]/train.shape[0]\n",
    "\n",
    "p_attr0_32=p_attr_32 * p_attr_0\n",
    "p_attr0_32"
   ]
  },
  {
   "cell_type": "code",
   "execution_count": 165,
   "metadata": {},
   "outputs": [
    {
     "data": {
      "text/plain": [
       "0.006486452773173103"
      ]
     },
     "execution_count": 165,
     "metadata": {},
     "output_type": "execute_result"
    }
   ],
   "source": [
    "mu_y=33.760479\n",
    "sigma_y2=96.484453\n",
    "\n",
    "p_attr_32=(1 / np.sqrt(2 * np.pi * sigma_y2)) * \\\n",
    "            np.exp(-1 * np.square(32-mu_y)/(2*sigma_y2))\n",
    "\n",
    "p_attr_1=train[train['Attrition']==1].shape[0]/train.shape[0]\n",
    "\n",
    "p_attr1_32=p_attr_32 * p_attr_1\n",
    "p_attr1_32"
   ]
  },
  {
   "cell_type": "code",
   "execution_count": 166,
   "metadata": {},
   "outputs": [
    {
     "name": "stdout",
     "output_type": "stream",
     "text": [
      "Probability of negative class: 0.8285\n",
      "Probability of positive class: 0.1715\n"
     ]
    }
   ],
   "source": [
    "p_neg = p_attr0_32 / (p_attr0_32 + p_attr1_32)\n",
    "p_pos = p_attr1_32 / (p_attr0_32 + p_attr1_32)\n",
    "\n",
    "print('Probability of negative class: %.4f' % p_neg)\n",
    "print('Probability of positive class: %.4f' % p_pos)"
   ]
  },
  {
   "cell_type": "code",
   "execution_count": null,
   "metadata": {},
   "outputs": [],
   "source": []
  }
 ],
 "metadata": {
  "kernelspec": {
   "display_name": "Python 3",
   "language": "python",
   "name": "python3"
  },
  "language_info": {
   "codemirror_mode": {
    "name": "ipython",
    "version": 3
   },
   "file_extension": ".py",
   "mimetype": "text/x-python",
   "name": "python",
   "nbconvert_exporter": "python",
   "pygments_lexer": "ipython3",
   "version": "3.7.1"
  }
 },
 "nbformat": 4,
 "nbformat_minor": 2
}
