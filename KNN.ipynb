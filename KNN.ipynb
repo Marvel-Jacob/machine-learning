{
 "cells": [
  {
   "cell_type": "code",
   "execution_count": 1,
   "metadata": {},
   "outputs": [],
   "source": [
    "import pandas as pd\n",
    "import numpy as np\n",
    "from sklearn.model_selection import train_test_split\n",
    "from sklearn.ensemble import RandomForestClassifier, AdaBoostClassifier\n",
    "from sklearn.metrics import accuracy_score, classification_report\n",
    "from sklearn.metrics import confusion_matrix"
   ]
  },
  {
   "cell_type": "code",
   "execution_count": 2,
   "metadata": {},
   "outputs": [],
   "source": [
    "hr=pd.read_csv('C:/Users/Administrator/Documents/HR Analytics.csv')\n",
    "hr_dummies = pd.get_dummies(hr)"
   ]
  },
  {
   "cell_type": "code",
   "execution_count": 3,
   "metadata": {},
   "outputs": [],
   "source": [
    "train, test = train_test_split(hr_dummies,test_size=0.3,random_state=100)"
   ]
  },
  {
   "cell_type": "code",
   "execution_count": 4,
   "metadata": {},
   "outputs": [],
   "source": [
    "train_x = train.drop('Attrition', axis=1)\n",
    "train_y = train['Attrition']\n",
    "\n",
    "test_x = test.drop('Attrition', axis=1)\n",
    "test_y = test['Attrition']"
   ]
  },
  {
   "cell_type": "code",
   "execution_count": 5,
   "metadata": {},
   "outputs": [
    {
     "name": "stdout",
     "output_type": "stream",
     "text": [
      "                Accuracy\n",
      "Random Forest  85.941043\n",
      "Ada Boost      84.353741\n",
      "Decision Tree  82.312925\n",
      "KNN            79.818594\n"
     ]
    }
   ],
   "source": [
    "#DECISION TREE, RANDOM FOREST, KNN, ADA BOOS TOGETHER\n",
    "\n",
    "from sklearn.tree import DecisionTreeClassifier\n",
    "from sklearn.ensemble import RandomForestClassifier\n",
    "from sklearn.neighbors import KNeighborsClassifier\n",
    "from sklearn.ensemble import AdaBoostClassifier\n",
    "from sklearn.metrics import accuracy_score\n",
    "\n",
    "l=[]\n",
    "model_1=DecisionTreeClassifier(random_state=100,max_depth=3)\n",
    "model_2=RandomForestClassifier(random_state=100,n_estimators=300)\n",
    "model_3=KNeighborsClassifier(n_neighbors=5)\n",
    "model_4=AdaBoostClassifier(random_state=100, n_estimators=800)\n",
    "a=(model_1,model_2,model_3,model_4)\n",
    "for i in a:\n",
    "    i.fit(train_x,train_y)\n",
    "    pred_test=i.predict(test_x)\n",
    "    a=accuracy_score(test_y,pred_test)\n",
    "    l.append(a*100)\n",
    "df=(pd.DataFrame({'Accuracy':l},index=['Decision Tree','Random Forest','KNN','Ada Boost']).sort_values('Accuracy',ascending=False))\n",
    "print(df)"
   ]
  },
  {
   "cell_type": "markdown",
   "metadata": {},
   "source": [
    "# When do we use KNN algorithm?\n",
    "KNN can be used for both classification and regression predictive problems. However, it is more widely used in classification problems in the industry. To evaluate any technique we generally look at 3 important aspects:\n",
    "\n",
    "1. Ease to interpret output\n",
    "\n",
    "2. Calculation time\n",
    "\n",
    "3. Predictive Power\n",
    "\n",
    "Let us take a few examples to  place KNN in the scale :\n",
    "\n",
    "Model comparisonKNN algorithm fairs across all parameters of considerations. It is commonly used for its easy of interpretation and low calculation time"
   ]
  },
  {
   "cell_type": "code",
   "execution_count": null,
   "metadata": {},
   "outputs": [],
   "source": []
  },
  {
   "cell_type": "markdown",
   "metadata": {},
   "source": [
    "# Algorithm Steps\n",
    "- Identify Euclidean Distance Between the test sample with all training samples\n",
    "- Sort the training in the ascending order of euclidean distance\n",
    "- Choose K - Neighbours i.e choose first K rows after sorting\n",
    "- Do polling on target column\n",
    "- Prediction will be for that class which has highest count"
   ]
  },
  {
   "cell_type": "code",
   "execution_count": 5,
   "metadata": {},
   "outputs": [
    {
     "data": {
      "text/html": [
       "<div>\n",
       "<style scoped>\n",
       "    .dataframe tbody tr th:only-of-type {\n",
       "        vertical-align: middle;\n",
       "    }\n",
       "\n",
       "    .dataframe tbody tr th {\n",
       "        vertical-align: top;\n",
       "    }\n",
       "\n",
       "    .dataframe thead th {\n",
       "        text-align: right;\n",
       "    }\n",
       "</style>\n",
       "<table border=\"1\" class=\"dataframe\">\n",
       "  <thead>\n",
       "    <tr style=\"text-align: right;\">\n",
       "      <th></th>\n",
       "      <th>Age</th>\n",
       "      <th>DailyRate</th>\n",
       "      <th>DistanceFromHome</th>\n",
       "      <th>Education</th>\n",
       "      <th>EmployeeCount</th>\n",
       "      <th>EmployeeNumber</th>\n",
       "      <th>EnvironmentSatisfaction</th>\n",
       "      <th>HourlyRate</th>\n",
       "      <th>JobInvolvement</th>\n",
       "      <th>JobLevel</th>\n",
       "      <th>...</th>\n",
       "      <th>JobRole_Research Director</th>\n",
       "      <th>JobRole_Research Scientist</th>\n",
       "      <th>JobRole_Sales Executive</th>\n",
       "      <th>JobRole_Sales Representative</th>\n",
       "      <th>MaritalStatus_Divorced</th>\n",
       "      <th>MaritalStatus_Married</th>\n",
       "      <th>MaritalStatus_Single</th>\n",
       "      <th>Over18_Y</th>\n",
       "      <th>OverTime_No</th>\n",
       "      <th>OverTime_Yes</th>\n",
       "    </tr>\n",
       "  </thead>\n",
       "  <tbody>\n",
       "    <tr>\n",
       "      <th>178</th>\n",
       "      <td>46</td>\n",
       "      <td>526</td>\n",
       "      <td>1</td>\n",
       "      <td>2</td>\n",
       "      <td>1</td>\n",
       "      <td>244</td>\n",
       "      <td>2</td>\n",
       "      <td>92</td>\n",
       "      <td>3</td>\n",
       "      <td>3</td>\n",
       "      <td>...</td>\n",
       "      <td>0</td>\n",
       "      <td>0</td>\n",
       "      <td>1</td>\n",
       "      <td>0</td>\n",
       "      <td>1</td>\n",
       "      <td>0</td>\n",
       "      <td>0</td>\n",
       "      <td>1</td>\n",
       "      <td>1</td>\n",
       "      <td>0</td>\n",
       "    </tr>\n",
       "    <tr>\n",
       "      <th>971</th>\n",
       "      <td>51</td>\n",
       "      <td>1405</td>\n",
       "      <td>11</td>\n",
       "      <td>2</td>\n",
       "      <td>1</td>\n",
       "      <td>1367</td>\n",
       "      <td>4</td>\n",
       "      <td>82</td>\n",
       "      <td>2</td>\n",
       "      <td>4</td>\n",
       "      <td>...</td>\n",
       "      <td>0</td>\n",
       "      <td>0</td>\n",
       "      <td>0</td>\n",
       "      <td>0</td>\n",
       "      <td>0</td>\n",
       "      <td>0</td>\n",
       "      <td>1</td>\n",
       "      <td>1</td>\n",
       "      <td>1</td>\n",
       "      <td>0</td>\n",
       "    </tr>\n",
       "    <tr>\n",
       "      <th>1172</th>\n",
       "      <td>29</td>\n",
       "      <td>469</td>\n",
       "      <td>10</td>\n",
       "      <td>3</td>\n",
       "      <td>1</td>\n",
       "      <td>1650</td>\n",
       "      <td>3</td>\n",
       "      <td>42</td>\n",
       "      <td>2</td>\n",
       "      <td>2</td>\n",
       "      <td>...</td>\n",
       "      <td>0</td>\n",
       "      <td>0</td>\n",
       "      <td>1</td>\n",
       "      <td>0</td>\n",
       "      <td>0</td>\n",
       "      <td>0</td>\n",
       "      <td>1</td>\n",
       "      <td>1</td>\n",
       "      <td>1</td>\n",
       "      <td>0</td>\n",
       "    </tr>\n",
       "    <tr>\n",
       "      <th>667</th>\n",
       "      <td>41</td>\n",
       "      <td>1085</td>\n",
       "      <td>2</td>\n",
       "      <td>4</td>\n",
       "      <td>1</td>\n",
       "      <td>927</td>\n",
       "      <td>2</td>\n",
       "      <td>57</td>\n",
       "      <td>1</td>\n",
       "      <td>1</td>\n",
       "      <td>...</td>\n",
       "      <td>0</td>\n",
       "      <td>0</td>\n",
       "      <td>0</td>\n",
       "      <td>0</td>\n",
       "      <td>1</td>\n",
       "      <td>0</td>\n",
       "      <td>0</td>\n",
       "      <td>1</td>\n",
       "      <td>0</td>\n",
       "      <td>1</td>\n",
       "    </tr>\n",
       "    <tr>\n",
       "      <th>399</th>\n",
       "      <td>31</td>\n",
       "      <td>329</td>\n",
       "      <td>1</td>\n",
       "      <td>2</td>\n",
       "      <td>1</td>\n",
       "      <td>530</td>\n",
       "      <td>4</td>\n",
       "      <td>98</td>\n",
       "      <td>2</td>\n",
       "      <td>1</td>\n",
       "      <td>...</td>\n",
       "      <td>0</td>\n",
       "      <td>0</td>\n",
       "      <td>0</td>\n",
       "      <td>0</td>\n",
       "      <td>0</td>\n",
       "      <td>1</td>\n",
       "      <td>0</td>\n",
       "      <td>1</td>\n",
       "      <td>1</td>\n",
       "      <td>0</td>\n",
       "    </tr>\n",
       "  </tbody>\n",
       "</table>\n",
       "<p>5 rows × 55 columns</p>\n",
       "</div>"
      ],
      "text/plain": [
       "      Age  DailyRate  DistanceFromHome  Education  EmployeeCount  \\\n",
       "178    46        526                 1          2              1   \n",
       "971    51       1405                11          2              1   \n",
       "1172   29        469                10          3              1   \n",
       "667    41       1085                 2          4              1   \n",
       "399    31        329                 1          2              1   \n",
       "\n",
       "      EmployeeNumber  EnvironmentSatisfaction  HourlyRate  JobInvolvement  \\\n",
       "178              244                        2          92               3   \n",
       "971             1367                        4          82               2   \n",
       "1172            1650                        3          42               2   \n",
       "667              927                        2          57               1   \n",
       "399              530                        4          98               2   \n",
       "\n",
       "      JobLevel      ...       JobRole_Research Director  \\\n",
       "178          3      ...                               0   \n",
       "971          4      ...                               0   \n",
       "1172         2      ...                               0   \n",
       "667          1      ...                               0   \n",
       "399          1      ...                               0   \n",
       "\n",
       "      JobRole_Research Scientist  JobRole_Sales Executive  \\\n",
       "178                            0                        1   \n",
       "971                            0                        0   \n",
       "1172                           0                        1   \n",
       "667                            0                        0   \n",
       "399                            0                        0   \n",
       "\n",
       "      JobRole_Sales Representative  MaritalStatus_Divorced  \\\n",
       "178                              0                       1   \n",
       "971                              0                       0   \n",
       "1172                             0                       0   \n",
       "667                              0                       1   \n",
       "399                              0                       0   \n",
       "\n",
       "      MaritalStatus_Married  MaritalStatus_Single  Over18_Y  OverTime_No  \\\n",
       "178                       0                     0         1            1   \n",
       "971                       0                     1         1            1   \n",
       "1172                      0                     1         1            1   \n",
       "667                       0                     0         1            0   \n",
       "399                       1                     0         1            1   \n",
       "\n",
       "      OverTime_Yes  \n",
       "178              0  \n",
       "971              0  \n",
       "1172             0  \n",
       "667              1  \n",
       "399              0  \n",
       "\n",
       "[5 rows x 55 columns]"
      ]
     },
     "execution_count": 5,
     "metadata": {},
     "output_type": "execute_result"
    }
   ],
   "source": [
    "train_x.head()"
   ]
  },
  {
   "cell_type": "code",
   "execution_count": 6,
   "metadata": {},
   "outputs": [],
   "source": [
    "from scipy.spatial.distance import euclidean\n",
    "test_sample = test_x.iloc[0]\n",
    "df_eds = pd.DataFrame(columns=['index','euclidean'])"
   ]
  },
  {
   "cell_type": "code",
   "execution_count": 7,
   "metadata": {},
   "outputs": [
    {
     "data": {
      "text/plain": [
       "Age                                    32\n",
       "DailyRate                             116\n",
       "DistanceFromHome                       13\n",
       "Education                               3\n",
       "EmployeeCount                           1\n",
       "EmployeeNumber                       1234\n",
       "EnvironmentSatisfaction                 3\n",
       "HourlyRate                             77\n",
       "JobInvolvement                          2\n",
       "JobLevel                                1\n",
       "JobSatisfaction                         2\n",
       "MonthlyIncome                        2743\n",
       "MonthlyRate                          7331\n",
       "NumCompaniesWorked                      1\n",
       "PercentSalaryHike                      20\n",
       "PerformanceRating                       4\n",
       "RelationshipSatisfaction                3\n",
       "StandardHours                          80\n",
       "StockOptionLevel                        1\n",
       "TotalWorkingYears                       2\n",
       "TrainingTimesLastYear                   2\n",
       "WorkLifeBalance                         3\n",
       "YearsAtCompany                          2\n",
       "YearsInCurrentRole                      2\n",
       "YearsSinceLastPromotion                 2\n",
       "YearsWithCurrManager                    2\n",
       "BusinessTravel_Non-Travel               0\n",
       "BusinessTravel_Travel_Frequently        1\n",
       "BusinessTravel_Travel_Rarely            0\n",
       "Department_Human Resources              0\n",
       "Department_Research & Development       1\n",
       "Department_Sales                        0\n",
       "EducationField_Human Resources          0\n",
       "EducationField_Life Sciences            0\n",
       "EducationField_Marketing                0\n",
       "EducationField_Medical                  0\n",
       "EducationField_Other                    1\n",
       "EducationField_Technical Degree         0\n",
       "Gender_Female                           1\n",
       "Gender_Male                             0\n",
       "JobRole_Healthcare Representative       0\n",
       "JobRole_Human Resources                 0\n",
       "JobRole_Laboratory Technician           1\n",
       "JobRole_Manager                         0\n",
       "JobRole_Manufacturing Director          0\n",
       "JobRole_Research Director               0\n",
       "JobRole_Research Scientist              0\n",
       "JobRole_Sales Executive                 0\n",
       "JobRole_Sales Representative            0\n",
       "MaritalStatus_Divorced                  0\n",
       "MaritalStatus_Married                   1\n",
       "MaritalStatus_Single                    0\n",
       "Over18_Y                                1\n",
       "OverTime_No                             1\n",
       "OverTime_Yes                            0\n",
       "Name: 880, dtype: int64"
      ]
     },
     "execution_count": 7,
     "metadata": {},
     "output_type": "execute_result"
    }
   ],
   "source": [
    "test_sample = test_x.iloc[0]\n",
    "test_sample"
   ]
  },
  {
   "cell_type": "code",
   "execution_count": 13,
   "metadata": {},
   "outputs": [
    {
     "data": {
      "text/plain": [
       "1"
      ]
     },
     "execution_count": 13,
     "metadata": {},
     "output_type": "execute_result"
    }
   ],
   "source": [
    "for index,row in train_x.iterrows():\n",
    "    curr_ed = euclidean(test_sample.values,row.values)\n",
    "    df_eds = df_eds.append({'index': index,'euclidean':curr_ed},ignore_index=True)\n",
    "df_eds=df_eds.sort_values(by='euclidean')\n",
    "neighbors =df_eds.head()\n",
    "\n",
    "train_y.loc[neighbors['index']].value_counts().index[0]"
   ]
  },
  {
   "cell_type": "code",
   "execution_count": 9,
   "metadata": {},
   "outputs": [
    {
     "data": {
      "text/plain": [
       "KNeighborsClassifier(algorithm='auto', leaf_size=30, metric='minkowski',\n",
       "           metric_params=None, n_jobs=1, n_neighbors=1, p=2,\n",
       "           weights='uniform')"
      ]
     },
     "execution_count": 9,
     "metadata": {},
     "output_type": "execute_result"
    }
   ],
   "source": [
    "from sklearn.neighbors import KNeighborsClassifier\n",
    "from sklearn.metrics import roc_curve, auc\n",
    "import matplotlib.pyplot as plt\n",
    "model = KNeighborsClassifier(n_neighbors=1)\n",
    "model.fit(train_x,train_y)"
   ]
  },
  {
   "cell_type": "code",
   "execution_count": 10,
   "metadata": {},
   "outputs": [
    {
     "name": "stdout",
     "output_type": "stream",
     "text": [
      "Accuracy: 0.72\n",
      "             precision    recall  f1-score   support\n",
      "\n",
      "          0       0.84      0.81      0.83       371\n",
      "          1       0.17      0.20      0.18        70\n",
      "\n",
      "avg / total       0.74      0.72      0.73       441\n",
      "\n"
     ]
    },
    {
     "data": {
      "text/plain": [
       "<matplotlib.legend.Legend at 0x1ce7720ac88>"
      ]
     },
     "execution_count": 10,
     "metadata": {},
     "output_type": "execute_result"
    },
    {
     "data": {
      "image/png": "[encoded data removed]",
      "text/plain": [
       "<matplotlib.figure.Figure at 0x1ce76f28400>"
      ]
     },
     "metadata": {},
     "output_type": "display_data"
    }
   ],
   "source": [
    "pred_class = model.predict(test_x)\n",
    "pred_probs = pd.DataFrame(model.predict_proba(test_x), columns=['neg','pos'])\n",
    "\n",
    "print('Accuracy: %.2f'% accuracy_score (test_y,pred_class))\n",
    "print(classification_report(test_y,pred_class))\n",
    "\n",
    "fpr_knn, tpr_knn, thresholds = roc_curve(test_y, pred_probs['pos'])\n",
    "auc_knn = auc(fpr_knn,tpr_knn)\n",
    "plt.plot(fpr_knn, tpr_knn)\n",
    "plt.legend(['AUC: %.2f' % auc_knn])"
   ]
  },
  {
   "cell_type": "code",
   "execution_count": null,
   "metadata": {},
   "outputs": [],
   "source": []
  },
  {
   "cell_type": "code",
   "execution_count": null,
   "metadata": {},
   "outputs": [],
   "source": []
  },
  {
   "cell_type": "code",
   "execution_count": null,
   "metadata": {},
   "outputs": [],
   "source": []
  },
  {
   "cell_type": "code",
   "execution_count": null,
   "metadata": {},
   "outputs": [],
   "source": []
  },
  {
   "cell_type": "markdown",
   "metadata": {},
   "source": [
    "# Practice on Mushroom Data"
   ]
  },
  {
   "cell_type": "markdown",
   "metadata": {},
   "source": [
    "### MUSHROOM"
   ]
  },
  {
   "cell_type": "code",
   "execution_count": 6,
   "metadata": {},
   "outputs": [
    {
     "data": {
      "text/html": [
       "<div>\n",
       "<style scoped>\n",
       "    .dataframe tbody tr th:only-of-type {\n",
       "        vertical-align: middle;\n",
       "    }\n",
       "\n",
       "    .dataframe tbody tr th {\n",
       "        vertical-align: top;\n",
       "    }\n",
       "\n",
       "    .dataframe thead th {\n",
       "        text-align: right;\n",
       "    }\n",
       "</style>\n",
       "<table border=\"1\" class=\"dataframe\">\n",
       "  <thead>\n",
       "    <tr style=\"text-align: right;\">\n",
       "      <th></th>\n",
       "      <th>class</th>\n",
       "      <th>cap-shape</th>\n",
       "      <th>cap-surface</th>\n",
       "      <th>cap-color</th>\n",
       "      <th>bruises</th>\n",
       "      <th>odor</th>\n",
       "      <th>gill-attachment</th>\n",
       "      <th>gill-spacing</th>\n",
       "      <th>gill-size</th>\n",
       "      <th>gill-color</th>\n",
       "      <th>...</th>\n",
       "      <th>stalk-surface-below-ring</th>\n",
       "      <th>stalk-color-above-ring</th>\n",
       "      <th>stalk-color-below-ring</th>\n",
       "      <th>veil-type</th>\n",
       "      <th>veil-color</th>\n",
       "      <th>ring-number</th>\n",
       "      <th>ring-type</th>\n",
       "      <th>spore-print-color</th>\n",
       "      <th>population</th>\n",
       "      <th>habitat</th>\n",
       "    </tr>\n",
       "  </thead>\n",
       "  <tbody>\n",
       "    <tr>\n",
       "      <th>0</th>\n",
       "      <td>EDIBLE</td>\n",
       "      <td>CONVEX</td>\n",
       "      <td>SMOOTH</td>\n",
       "      <td>WHITE</td>\n",
       "      <td>BRUISES</td>\n",
       "      <td>ALMOND</td>\n",
       "      <td>FREE</td>\n",
       "      <td>CROWDED</td>\n",
       "      <td>NARROW</td>\n",
       "      <td>WHITE</td>\n",
       "      <td>...</td>\n",
       "      <td>SMOOTH</td>\n",
       "      <td>WHITE</td>\n",
       "      <td>WHITE</td>\n",
       "      <td>PARTIAL</td>\n",
       "      <td>WHITE</td>\n",
       "      <td>ONE</td>\n",
       "      <td>PENDANT</td>\n",
       "      <td>PURPLE</td>\n",
       "      <td>SEVERAL</td>\n",
       "      <td>WOODS</td>\n",
       "    </tr>\n",
       "    <tr>\n",
       "      <th>1</th>\n",
       "      <td>EDIBLE</td>\n",
       "      <td>CONVEX</td>\n",
       "      <td>SMOOTH</td>\n",
       "      <td>WHITE</td>\n",
       "      <td>BRUISES</td>\n",
       "      <td>ALMOND</td>\n",
       "      <td>FREE</td>\n",
       "      <td>CROWDED</td>\n",
       "      <td>NARROW</td>\n",
       "      <td>WHITE</td>\n",
       "      <td>...</td>\n",
       "      <td>SMOOTH</td>\n",
       "      <td>WHITE</td>\n",
       "      <td>WHITE</td>\n",
       "      <td>PARTIAL</td>\n",
       "      <td>WHITE</td>\n",
       "      <td>ONE</td>\n",
       "      <td>PENDANT</td>\n",
       "      <td>BROWN</td>\n",
       "      <td>SEVERAL</td>\n",
       "      <td>WOODS</td>\n",
       "    </tr>\n",
       "    <tr>\n",
       "      <th>2</th>\n",
       "      <td>EDIBLE</td>\n",
       "      <td>CONVEX</td>\n",
       "      <td>SMOOTH</td>\n",
       "      <td>WHITE</td>\n",
       "      <td>BRUISES</td>\n",
       "      <td>ALMOND</td>\n",
       "      <td>FREE</td>\n",
       "      <td>CROWDED</td>\n",
       "      <td>NARROW</td>\n",
       "      <td>PINK</td>\n",
       "      <td>...</td>\n",
       "      <td>SMOOTH</td>\n",
       "      <td>WHITE</td>\n",
       "      <td>WHITE</td>\n",
       "      <td>PARTIAL</td>\n",
       "      <td>WHITE</td>\n",
       "      <td>ONE</td>\n",
       "      <td>PENDANT</td>\n",
       "      <td>PURPLE</td>\n",
       "      <td>SEVERAL</td>\n",
       "      <td>WOODS</td>\n",
       "    </tr>\n",
       "    <tr>\n",
       "      <th>3</th>\n",
       "      <td>EDIBLE</td>\n",
       "      <td>CONVEX</td>\n",
       "      <td>SMOOTH</td>\n",
       "      <td>WHITE</td>\n",
       "      <td>BRUISES</td>\n",
       "      <td>ALMOND</td>\n",
       "      <td>FREE</td>\n",
       "      <td>CROWDED</td>\n",
       "      <td>NARROW</td>\n",
       "      <td>PINK</td>\n",
       "      <td>...</td>\n",
       "      <td>SMOOTH</td>\n",
       "      <td>WHITE</td>\n",
       "      <td>WHITE</td>\n",
       "      <td>PARTIAL</td>\n",
       "      <td>WHITE</td>\n",
       "      <td>ONE</td>\n",
       "      <td>PENDANT</td>\n",
       "      <td>BROWN</td>\n",
       "      <td>SEVERAL</td>\n",
       "      <td>WOODS</td>\n",
       "    </tr>\n",
       "    <tr>\n",
       "      <th>4</th>\n",
       "      <td>EDIBLE</td>\n",
       "      <td>CONVEX</td>\n",
       "      <td>SMOOTH</td>\n",
       "      <td>WHITE</td>\n",
       "      <td>BRUISES</td>\n",
       "      <td>ALMOND</td>\n",
       "      <td>FREE</td>\n",
       "      <td>CROWDED</td>\n",
       "      <td>NARROW</td>\n",
       "      <td>BROWN</td>\n",
       "      <td>...</td>\n",
       "      <td>SMOOTH</td>\n",
       "      <td>WHITE</td>\n",
       "      <td>WHITE</td>\n",
       "      <td>PARTIAL</td>\n",
       "      <td>WHITE</td>\n",
       "      <td>ONE</td>\n",
       "      <td>PENDANT</td>\n",
       "      <td>PURPLE</td>\n",
       "      <td>SEVERAL</td>\n",
       "      <td>WOODS</td>\n",
       "    </tr>\n",
       "  </tbody>\n",
       "</table>\n",
       "<p>5 rows × 23 columns</p>\n",
       "</div>"
      ],
      "text/plain": [
       "    class cap-shape cap-surface cap-color  bruises    odor gill-attachment  \\\n",
       "0  EDIBLE    CONVEX      SMOOTH     WHITE  BRUISES  ALMOND            FREE   \n",
       "1  EDIBLE    CONVEX      SMOOTH     WHITE  BRUISES  ALMOND            FREE   \n",
       "2  EDIBLE    CONVEX      SMOOTH     WHITE  BRUISES  ALMOND            FREE   \n",
       "3  EDIBLE    CONVEX      SMOOTH     WHITE  BRUISES  ALMOND            FREE   \n",
       "4  EDIBLE    CONVEX      SMOOTH     WHITE  BRUISES  ALMOND            FREE   \n",
       "\n",
       "  gill-spacing gill-size gill-color   ...   stalk-surface-below-ring  \\\n",
       "0      CROWDED    NARROW      WHITE   ...                     SMOOTH   \n",
       "1      CROWDED    NARROW      WHITE   ...                     SMOOTH   \n",
       "2      CROWDED    NARROW       PINK   ...                     SMOOTH   \n",
       "3      CROWDED    NARROW       PINK   ...                     SMOOTH   \n",
       "4      CROWDED    NARROW      BROWN   ...                     SMOOTH   \n",
       "\n",
       "  stalk-color-above-ring stalk-color-below-ring veil-type veil-color  \\\n",
       "0                  WHITE                  WHITE   PARTIAL      WHITE   \n",
       "1                  WHITE                  WHITE   PARTIAL      WHITE   \n",
       "2                  WHITE                  WHITE   PARTIAL      WHITE   \n",
       "3                  WHITE                  WHITE   PARTIAL      WHITE   \n",
       "4                  WHITE                  WHITE   PARTIAL      WHITE   \n",
       "\n",
       "  ring-number ring-type spore-print-color population habitat  \n",
       "0         ONE   PENDANT            PURPLE    SEVERAL   WOODS  \n",
       "1         ONE   PENDANT             BROWN    SEVERAL   WOODS  \n",
       "2         ONE   PENDANT            PURPLE    SEVERAL   WOODS  \n",
       "3         ONE   PENDANT             BROWN    SEVERAL   WOODS  \n",
       "4         ONE   PENDANT            PURPLE    SEVERAL   WOODS  \n",
       "\n",
       "[5 rows x 23 columns]"
      ]
     },
     "execution_count": 6,
     "metadata": {},
     "output_type": "execute_result"
    }
   ],
   "source": [
    "mushroom=pd.read_csv('D:/MANIPAL/TERM 2/DATASETS/datasets-master/mushroom.csv')\n",
    "mushroom.head()"
   ]
  },
  {
   "cell_type": "code",
   "execution_count": null,
   "metadata": {},
   "outputs": [],
   "source": []
  },
  {
   "cell_type": "code",
   "execution_count": 7,
   "metadata": {},
   "outputs": [],
   "source": [
    "m_dummies = pd.get_dummies(mushroom.drop('class',axis = 1))# dropped the y\n",
    "m_dummies['class'] = mushroom['class']"
   ]
  },
  {
   "cell_type": "code",
   "execution_count": 8,
   "metadata": {},
   "outputs": [],
   "source": [
    "train_m, test_m = train_test_split(m_dummies,test_size=0.3,random_state=100)"
   ]
  },
  {
   "cell_type": "code",
   "execution_count": 9,
   "metadata": {},
   "outputs": [],
   "source": [
    "train_x = train_m.drop('class', axis=1)\n",
    "train_y = train_m['class']\n",
    "\n",
    "test_x = test_m.drop('class', axis=1)\n",
    "test_y = test_m['class']"
   ]
  },
  {
   "cell_type": "code",
   "execution_count": 10,
   "metadata": {},
   "outputs": [
    {
     "name": "stdout",
     "output_type": "stream",
     "text": [
      "                 Accuracy\n",
      "Random Forest  100.000000\n",
      "KNN            100.000000\n",
      "Ada Boost      100.000000\n",
      "Decision Tree   98.772277\n"
     ]
    }
   ],
   "source": [
    "#DECISION TREE, RANDOM FOREST, KNN, ADA BOOS TOGETHER\n",
    "\n",
    "from sklearn.tree import DecisionTreeClassifier\n",
    "from sklearn.ensemble import RandomForestClassifier\n",
    "from sklearn.neighbors import KNeighborsClassifier\n",
    "from sklearn.ensemble import AdaBoostClassifier\n",
    "from sklearn.metrics import accuracy_score\n",
    "\n",
    "l=[]\n",
    "model_1=DecisionTreeClassifier(random_state=100,max_depth=3)\n",
    "model_2=RandomForestClassifier(random_state=100,n_estimators=300)\n",
    "model_3=KNeighborsClassifier(n_neighbors=5)\n",
    "model_4=AdaBoostClassifier(random_state=100, n_estimators=800)\n",
    "a=(model_1,model_2,model_3,model_4)\n",
    "for i in a:\n",
    "    i.fit(train_x,train_y)\n",
    "    pred_test=i.predict(test_x)\n",
    "    a=accuracy_score(test_y,pred_test)\n",
    "    l.append(a*100)\n",
    "df=(pd.DataFrame({'Accuracy':l},index=['Decision Tree','Random Forest','KNN','Ada Boost']).sort_values('Accuracy',ascending=False))\n",
    "print(df)"
   ]
  },
  {
   "cell_type": "code",
   "execution_count": 24,
   "metadata": {},
   "outputs": [
    {
     "data": {
      "text/plain": [
       "'EDIBLE'"
      ]
     },
     "execution_count": 24,
     "metadata": {},
     "output_type": "execute_result"
    }
   ],
   "source": [
    "from scipy.spatial.distance import euclidean\n",
    "\n",
    "test_sample = test_x.iloc[0]\n",
    "df_eds = pd.DataFrame(columns=['index','euclidean'])\n",
    "\n",
    "for index,row in train_x.iterrows():#performs over DataFrame rows as (index, Series) pairs.\n",
    "    curr_ed = euclidean(test_sample.values,row.values)\n",
    "    df_eds = df_eds.append({'index': index,'euclidean':curr_ed},ignore_index=True)\n",
    "df_eds=df_eds.sort_values(by='euclidean')\n",
    "neighbors =df_eds.head()\n",
    "\n",
    "train_y.loc[neighbors['index']].value_counts().index[0]\n"
   ]
  },
  {
   "cell_type": "code",
   "execution_count": 25,
   "metadata": {},
   "outputs": [
    {
     "data": {
      "text/html": [
       "<div>\n",
       "<style scoped>\n",
       "    .dataframe tbody tr th:only-of-type {\n",
       "        vertical-align: middle;\n",
       "    }\n",
       "\n",
       "    .dataframe tbody tr th {\n",
       "        vertical-align: top;\n",
       "    }\n",
       "\n",
       "    .dataframe thead th {\n",
       "        text-align: right;\n",
       "    }\n",
       "</style>\n",
       "<table border=\"1\" class=\"dataframe\">\n",
       "  <thead>\n",
       "    <tr style=\"text-align: right;\">\n",
       "      <th></th>\n",
       "      <th>index</th>\n",
       "      <th>euclidean</th>\n",
       "    </tr>\n",
       "  </thead>\n",
       "  <tbody>\n",
       "    <tr>\n",
       "      <th>2649</th>\n",
       "      <td>733.0</td>\n",
       "      <td>255.001961</td>\n",
       "    </tr>\n",
       "    <tr>\n",
       "      <th>5047</th>\n",
       "      <td>797.0</td>\n",
       "      <td>255.001961</td>\n",
       "    </tr>\n",
       "    <tr>\n",
       "      <th>5769</th>\n",
       "      <td>653.0</td>\n",
       "      <td>255.001961</td>\n",
       "    </tr>\n",
       "    <tr>\n",
       "      <th>5541</th>\n",
       "      <td>748.0</td>\n",
       "      <td>255.001961</td>\n",
       "    </tr>\n",
       "    <tr>\n",
       "      <th>5242</th>\n",
       "      <td>745.0</td>\n",
       "      <td>255.001961</td>\n",
       "    </tr>\n",
       "  </tbody>\n",
       "</table>\n",
       "</div>"
      ],
      "text/plain": [
       "      index   euclidean\n",
       "2649  733.0  255.001961\n",
       "5047  797.0  255.001961\n",
       "5769  653.0  255.001961\n",
       "5541  748.0  255.001961\n",
       "5242  745.0  255.001961"
      ]
     },
     "execution_count": 25,
     "metadata": {},
     "output_type": "execute_result"
    }
   ],
   "source": [
    "df_eds.head()\n",
    "neighbors"
   ]
  },
  {
   "cell_type": "code",
   "execution_count": 141,
   "metadata": {},
   "outputs": [
    {
     "data": {
      "text/plain": [
       "KNeighborsClassifier(algorithm='auto', leaf_size=30, metric='minkowski',\n",
       "           metric_params=None, n_jobs=1, n_neighbors=5, p=2,\n",
       "           weights='uniform')"
      ]
     },
     "execution_count": 141,
     "metadata": {},
     "output_type": "execute_result"
    }
   ],
   "source": [
    "from sklearn.neighbors import KNeighborsClassifier\n",
    "from sklearn.metrics import roc_curve, auc\n",
    "import matplotlib.pyplot as plt\n",
    "model = KNeighborsClassifier(n_neighbors=5)\n",
    "model.fit(train_x,train_y)"
   ]
  },
  {
   "cell_type": "code",
   "execution_count": 143,
   "metadata": {},
   "outputs": [
    {
     "name": "stdout",
     "output_type": "stream",
     "text": [
      "Accuracy: 1.00\n",
      "             precision    recall  f1-score   support\n",
      "\n",
      "     EDIBLE       1.00      1.00      1.00      1348\n",
      "  POISONOUS       1.00      1.00      1.00      1177\n",
      "\n",
      "avg / total       1.00      1.00      1.00      2525\n",
      "\n"
     ]
    }
   ],
   "source": [
    "pred_class = model.predict(test_x)\n",
    "pred_probs = pd.DataFrame(model.predict_proba(test_x), columns=['neg','pos'])\n",
    "\n",
    "print('Accuracy: %.2f'% accuracy_score (test_y,pred_class))\n",
    "print(classification_report(test_y,pred_class))"
   ]
  },
  {
   "cell_type": "code",
   "execution_count": 153,
   "metadata": {},
   "outputs": [
    {
     "data": {
      "image/png": "[encoded data removed]",
      "text/plain": [
       "<matplotlib.figure.Figure at 0x2089e5905c0>"
      ]
     },
     "metadata": {},
     "output_type": "display_data"
    }
   ],
   "source": [
    "fpr_knn,tpr_knn,thresholds=roc_curve(test_y,pred_probs['pos'],pos_label='POISONOUS')\n",
    "auc_knn=auc(fpr_knn,tpr_knn)\n",
    "plt.plot(fpr_knn,tpr_knn,color='g')\n",
    "plt.legend('AUC: %.2f' % auc_knn)\n",
    "plt.title('ROC for KNN')\n",
    "plt.show()"
   ]
  },
  {
   "cell_type": "markdown",
   "metadata": {},
   "source": [
    "# Hyper Parameter Tuning"
   ]
  },
  {
   "cell_type": "code",
   "execution_count": 210,
   "metadata": {},
   "outputs": [],
   "source": [
    "hr=pd.read_csv('C:/Users/Administrator/Documents/HR Analytics.csv')\n",
    "hr_dummies = pd.get_dummies(hr)"
   ]
  },
  {
   "cell_type": "code",
   "execution_count": 211,
   "metadata": {},
   "outputs": [],
   "source": [
    "train, test = train_test_split(hr_dummies,test_size=0.3,random_state=100)"
   ]
  },
  {
   "cell_type": "code",
   "execution_count": 212,
   "metadata": {},
   "outputs": [],
   "source": [
    "train_x = train.drop('Attrition', axis=1)\n",
    "train_y = train['Attrition']\n",
    "\n",
    "test_x = test.drop('Attrition', axis=1)\n",
    "test_y = test['Attrition']"
   ]
  },
  {
   "cell_type": "code",
   "execution_count": 175,
   "metadata": {},
   "outputs": [
    {
     "name": "stdout",
     "output_type": "stream",
     "text": [
      "0.1622934888241011 0.15873015873015872\n"
     ]
    }
   ],
   "source": [
    "from sklearn.tree import DecisionTreeClassifier\n",
    "depth=1\n",
    "model =DecisionTreeClassifier(max_depth=depth)\n",
    "model.fit(train_x,train_y)\n",
    "train_predict_class = model.predict(train_x)\n",
    "test_predict_class = model.predict(test_x)\n",
    "\n",
    "train_error = 1-accuracy_score(train_y,train_predict_class)\n",
    "test_error = 1-accuracy_score(test_y,test_predict_class)\n",
    "print(train_error, test_error)"
   ]
  },
  {
   "cell_type": "code",
   "execution_count": 179,
   "metadata": {},
   "outputs": [],
   "source": [
    "from sklearn.tree import DecisionTreeClassifier\n",
    "#depth=1\n",
    "depths = []\n",
    "train_errors = []\n",
    "test_errors = []\n",
    "\n",
    "for depth in range(1,30):\n",
    "    model = DecisionTreeClassifier(max_depth=depth)\n",
    "    model.fit(train_x,train_y)\n",
    "    train_predict_class = model.predict(train_x)\n",
    "    test_predict_class = model.predict(test_x)\n",
    "\n",
    "    train_error = 1 - accuracy_score(train_y,train_predict_class)\n",
    "    test_error = 1 - accuracy_score(test_y,test_predict_class)\n",
    "    \n",
    "    depths.append(depth)\n",
    "    train_errors.append(train_error)\n",
    "    test_errors.append(test_error)\n",
    "    #print(depths,train_errors, test_errors)"
   ]
  },
  {
   "cell_type": "code",
   "execution_count": 188,
   "metadata": {},
   "outputs": [
    {
     "data": {
      "image/png": "[encoded data removed]",
      "text/plain": [
       "<matplotlib.figure.Figure at 0x2089d39ae10>"
      ]
     },
     "metadata": {},
     "output_type": "display_data"
    }
   ],
   "source": [
    "plt.plot(depths, train_errors)\n",
    "plt.plot(depths, test_errors)\n",
    "plt.legend(['Train Errors', 'Test Errors'])\n",
    "plt.xlabel('Decision Tree Depth')\n",
    "plt.ylabel('Error Rate')\n",
    "plt.show()"
   ]
  },
  {
   "cell_type": "code",
   "execution_count": null,
   "metadata": {},
   "outputs": [],
   "source": [
    "from sklearn.model_selection import GridSearchCV\n"
   ]
  },
  {
   "cell_type": "markdown",
   "metadata": {},
   "source": [
    "# Cross Validation"
   ]
  },
  {
   "cell_type": "code",
   "execution_count": 213,
   "metadata": {},
   "outputs": [
    {
     "data": {
      "text/plain": [
       "array([0.83653846, 0.83653846, 0.83495146, 0.83495146, 0.82524272,\n",
       "       0.83495146, 0.83495146, 0.83333333, 0.84313725, 0.81372549])"
      ]
     },
     "execution_count": 213,
     "metadata": {},
     "output_type": "execute_result"
    }
   ],
   "source": [
    "from sklearn.model_selection import cross_val_score\n",
    "model=DecisionTreeClassifier(random_state=100,max_depth=1)\n",
    "cv_results = cross_val_score(model, train_x,train_y,cv=10)\n",
    "cv_results"
   ]
  },
  {
   "cell_type": "code",
   "execution_count": 214,
   "metadata": {},
   "outputs": [
    {
     "name": "stdout",
     "output_type": "stream",
     "text": [
      "0.8328321545197616\n",
      "5.745496193345417e-05\n"
     ]
    }
   ],
   "source": [
    "print(cv_results.mean())\n",
    "print(cv_results.var())"
   ]
  },
  {
   "cell_type": "code",
   "execution_count": 220,
   "metadata": {},
   "outputs": [],
   "source": [
    "depths1=[]\n",
    "errors1=[]\n",
    "for depth in range(1,30):\n",
    "    model=DecisionTreeClassifier(random_state=100,max_depth=depth)\n",
    "    cv_results = cross_val_score(model, train_x,train_y,cv=10)\n",
    "    avg_acc = cv_results.mean()\n",
    "    avg_err=1 - avg_acc\n",
    "    depths1.append(depth)\n",
    "    errors1.append(avg_err)\n"
   ]
  },
  {
   "cell_type": "code",
   "execution_count": 221,
   "metadata": {},
   "outputs": [
    {
     "data": {
      "text/plain": [
       "[<matplotlib.lines.Line2D at 0x2089fbb8c50>]"
      ]
     },
     "execution_count": 221,
     "metadata": {},
     "output_type": "execute_result"
    },
    {
     "data": {
      "image/png": "[encoded data removed]",
      "text/plain": [
       "<matplotlib.figure.Figure at 0x2089fb61cc0>"
      ]
     },
     "metadata": {},
     "output_type": "display_data"
    }
   ],
   "source": [
    "plt.plot(depths,errors)"
   ]
  },
  {
   "cell_type": "markdown",
   "metadata": {},
   "source": [
    "# Grid Search CV"
   ]
  },
  {
   "cell_type": "code",
   "execution_count": 224,
   "metadata": {},
   "outputs": [
    {
     "data": {
      "text/plain": [
       "GridSearchCV(cv=10, error_score='raise',\n",
       "       estimator=DecisionTreeClassifier(class_weight=None, criterion='gini', max_depth=None,\n",
       "            max_features=None, max_leaf_nodes=None,\n",
       "            min_impurity_decrease=0.0, min_impurity_split=None,\n",
       "            min_samples_leaf=1, min_samples_split=2,\n",
       "            min_weight_fraction_leaf=0.0, presort=False, random_state=100,\n",
       "            splitter='best'),\n",
       "       fit_params=None, iid=True, n_jobs=1,\n",
       "       param_grid={'max_depth': [1, 2, 3, 4, 5, 6, 7, 8, 9, 10, 11, 12, 13, 14, 15, 16, 17, 18, 19, 20, 21, 22, 23, 24, 25, 26, 27, 28, 29]},\n",
       "       pre_dispatch='2*n_jobs', refit=True, return_train_score='warn',\n",
       "       scoring=None, verbose=0)"
      ]
     },
     "execution_count": 224,
     "metadata": {},
     "output_type": "execute_result"
    }
   ],
   "source": [
    "from sklearn.model_selection import GridSearchCV\n",
    "params = {'max_depth': list(range(1,30))}\n",
    "base_estimator = DecisionTreeClassifier(random_state=100)\n",
    "cv_model = GridSearchCV(base_estimator,\n",
    "                       param_grid=params,\n",
    "                       cv=10)\n",
    "cv_model.fit(train_x, train_y)\n",
    "cv_model.best_params_"
   ]
  },
  {
   "cell_type": "code",
   "execution_count": null,
   "metadata": {},
   "outputs": [],
   "source": []
  },
  {
   "cell_type": "code",
   "execution_count": 225,
   "metadata": {},
   "outputs": [
    {
     "data": {
      "text/plain": [
       "{'max_depth': 4}"
      ]
     },
     "execution_count": 225,
     "metadata": {},
     "output_type": "execute_result"
    }
   ],
   "source": [
    "cv_model.best_params_"
   ]
  },
  {
   "cell_type": "code",
   "execution_count": 226,
   "metadata": {},
   "outputs": [
    {
     "data": {
      "text/plain": [
       "GridSearchCV(cv=10, error_score='raise',\n",
       "       estimator=DecisionTreeClassifier(class_weight=None, criterion='gini', max_depth=None,\n",
       "            max_features=None, max_leaf_nodes=None,\n",
       "            min_impurity_decrease=0.0, min_impurity_split=None,\n",
       "            min_samples_leaf=1, min_samples_split=2,\n",
       "            min_weight_fraction_leaf=0.0, presort=False, random_state=100,\n",
       "            splitter='best'),\n",
       "       fit_params=None, iid=True, n_jobs=1,\n",
       "       param_grid={'max_depth': [1, 2, 3, 4, 5, 6, 7, 8, 9, 10, 11, 12, 13, 14, 15, 16, 17, 18, 19, 20, 21, 22, 23, 24, 25, 26, 27, 28, 29], 'criterion': ['gini', 'entropy']},\n",
       "       pre_dispatch='2*n_jobs', refit=True, return_train_score='warn',\n",
       "       scoring=None, verbose=0)"
      ]
     },
     "execution_count": 226,
     "metadata": {},
     "output_type": "execute_result"
    }
   ],
   "source": [
    "from sklearn.model_selection import GridSearchCV\n",
    "params = {'max_depth': list(range(1,30)),\n",
    "         'criterion': ['gini','entropy']}\n",
    "base_estimator = DecisionTreeClassifier(random_state=100)\n",
    "cv_model = GridSearchCV(base_estimator,\n",
    "                       param_grid=params,\n",
    "                       cv=10)\n",
    "cv_model.fit(train_x, train_y)"
   ]
  },
  {
   "cell_type": "code",
   "execution_count": 228,
   "metadata": {},
   "outputs": [
    {
     "data": {
      "text/plain": [
       "[({'criterion': 'gini', 'max_depth': 1}, 0.8328474246841594),\n",
       " ({'criterion': 'gini', 'max_depth': 2}, 0.8357628765792031),\n",
       " ({'criterion': 'gini', 'max_depth': 3}, 0.8328474246841594),\n",
       " ({'criterion': 'gini', 'max_depth': 4}, 0.8493683187560739),\n",
       " ({'criterion': 'gini', 'max_depth': 5}, 0.8338192419825073),\n",
       " ({'criterion': 'gini', 'max_depth': 6}, 0.8347910592808552),\n",
       " ({'criterion': 'gini', 'max_depth': 7}, 0.8377065111758989),\n",
       " ({'criterion': 'gini', 'max_depth': 8}, 0.8250728862973761),\n",
       " ({'criterion': 'gini', 'max_depth': 9}, 0.8124392614188533),\n",
       " ({'criterion': 'gini', 'max_depth': 10}, 0.8182701652089407),\n",
       " ({'criterion': 'gini', 'max_depth': 11}, 0.8046647230320699),\n",
       " ({'criterion': 'gini', 'max_depth': 12}, 0.8134110787172012),\n",
       " ({'criterion': 'gini', 'max_depth': 13}, 0.8066083576287658),\n",
       " ({'criterion': 'gini', 'max_depth': 14}, 0.7968901846452867),\n",
       " ({'criterion': 'gini', 'max_depth': 15}, 0.8027210884353742),\n",
       " ({'criterion': 'gini', 'max_depth': 16}, 0.7998056365403304),\n",
       " ({'criterion': 'gini', 'max_depth': 17}, 0.7968901846452867),\n",
       " ({'criterion': 'gini', 'max_depth': 18}, 0.793974732750243),\n",
       " ({'criterion': 'gini', 'max_depth': 19}, 0.7959183673469388),\n",
       " ({'criterion': 'gini', 'max_depth': 20}, 0.7959183673469388),\n",
       " ({'criterion': 'gini', 'max_depth': 21}, 0.7959183673469388),\n",
       " ({'criterion': 'gini', 'max_depth': 22}, 0.7959183673469388),\n",
       " ({'criterion': 'gini', 'max_depth': 23}, 0.7959183673469388),\n",
       " ({'criterion': 'gini', 'max_depth': 24}, 0.7959183673469388),\n",
       " ({'criterion': 'gini', 'max_depth': 25}, 0.7959183673469388),\n",
       " ({'criterion': 'gini', 'max_depth': 26}, 0.7959183673469388),\n",
       " ({'criterion': 'gini', 'max_depth': 27}, 0.7959183673469388),\n",
       " ({'criterion': 'gini', 'max_depth': 28}, 0.7959183673469388),\n",
       " ({'criterion': 'gini', 'max_depth': 29}, 0.7959183673469388),\n",
       " ({'criterion': 'entropy', 'max_depth': 1}, 0.8377065111758989),\n",
       " ({'criterion': 'entropy', 'max_depth': 2}, 0.8454810495626822),\n",
       " ({'criterion': 'entropy', 'max_depth': 3}, 0.8377065111758989),\n",
       " ({'criterion': 'entropy', 'max_depth': 4}, 0.8454810495626822),\n",
       " ({'criterion': 'entropy', 'max_depth': 5}, 0.8406219630709426),\n",
       " ({'criterion': 'entropy', 'max_depth': 6}, 0.8338192419825073),\n",
       " ({'criterion': 'entropy', 'max_depth': 7}, 0.826044703595724),\n",
       " ({'criterion': 'entropy', 'max_depth': 8}, 0.826044703595724),\n",
       " ({'criterion': 'entropy', 'max_depth': 9}, 0.8104956268221575),\n",
       " ({'criterion': 'entropy', 'max_depth': 10}, 0.8036929057337221),\n",
       " ({'criterion': 'entropy', 'max_depth': 11}, 0.8007774538386784),\n",
       " ({'criterion': 'entropy', 'max_depth': 12}, 0.8066083576287658),\n",
       " ({'criterion': 'entropy', 'max_depth': 13}, 0.7998056365403304),\n",
       " ({'criterion': 'entropy', 'max_depth': 14}, 0.8036929057337221),\n",
       " ({'criterion': 'entropy', 'max_depth': 15}, 0.8056365403304179),\n",
       " ({'criterion': 'entropy', 'max_depth': 16}, 0.8066083576287658),\n",
       " ({'criterion': 'entropy', 'max_depth': 17}, 0.8066083576287658),\n",
       " ({'criterion': 'entropy', 'max_depth': 18}, 0.8066083576287658),\n",
       " ({'criterion': 'entropy', 'max_depth': 19}, 0.8066083576287658),\n",
       " ({'criterion': 'entropy', 'max_depth': 20}, 0.8066083576287658),\n",
       " ({'criterion': 'entropy', 'max_depth': 21}, 0.8066083576287658),\n",
       " ({'criterion': 'entropy', 'max_depth': 22}, 0.8066083576287658),\n",
       " ({'criterion': 'entropy', 'max_depth': 23}, 0.8066083576287658),\n",
       " ({'criterion': 'entropy', 'max_depth': 24}, 0.8066083576287658),\n",
       " ({'criterion': 'entropy', 'max_depth': 25}, 0.8066083576287658),\n",
       " ({'criterion': 'entropy', 'max_depth': 26}, 0.8066083576287658),\n",
       " ({'criterion': 'entropy', 'max_depth': 27}, 0.8066083576287658),\n",
       " ({'criterion': 'entropy', 'max_depth': 28}, 0.8066083576287658),\n",
       " ({'criterion': 'entropy', 'max_depth': 29}, 0.8066083576287658)]"
      ]
     },
     "execution_count": 228,
     "metadata": {},
     "output_type": "execute_result"
    }
   ],
   "source": [
    "#cv_model.grid_scores_\n",
    "list(zip(cv_model.cv_results_['params'],\n",
    "        cv_model.cv_results_['mean_test_score']))"
   ]
  },
  {
   "cell_type": "markdown",
   "metadata": {},
   "source": [
    "# GRID SEARCH RANDOM FOREST"
   ]
  },
  {
   "cell_type": "code",
   "execution_count": 9,
   "metadata": {},
   "outputs": [
    {
     "name": "stdout",
     "output_type": "stream",
     "text": [
      "Parameters currently in use:\n",
      "\n",
      "{'bootstrap': True,\n",
      " 'criterion': 'mse',\n",
      " 'max_depth': None,\n",
      " 'max_features': 'auto',\n",
      " 'max_leaf_nodes': None,\n",
      " 'min_impurity_decrease': 0.0,\n",
      " 'min_impurity_split': None,\n",
      " 'min_samples_leaf': 1,\n",
      " 'min_samples_split': 2,\n",
      " 'min_weight_fraction_leaf': 0.0,\n",
      " 'n_estimators': 10,\n",
      " 'n_jobs': 1,\n",
      " 'oob_score': False,\n",
      " 'random_state': 42,\n",
      " 'verbose': 0,\n",
      " 'warm_start': False}\n"
     ]
    },
    {
     "data": {
      "text/plain": [
       "{'bootstrap': True,\n",
       " 'criterion': 'mse',\n",
       " 'max_depth': None,\n",
       " 'max_features': 'auto',\n",
       " 'max_leaf_nodes': None,\n",
       " 'min_impurity_decrease': 0.0,\n",
       " 'min_impurity_split': None,\n",
       " 'min_samples_leaf': 1,\n",
       " 'min_samples_split': 2,\n",
       " 'min_weight_fraction_leaf': 0.0,\n",
       " 'n_estimators': 10,\n",
       " 'n_jobs': 1,\n",
       " 'oob_score': False,\n",
       " 'random_state': 42,\n",
       " 'verbose': 0,\n",
       " 'warm_start': False}"
      ]
     },
     "execution_count": 9,
     "metadata": {},
     "output_type": "execute_result"
    }
   ],
   "source": [
    "from sklearn.ensemble import RandomForestRegressor\n",
    "rf = RandomForestRegressor(random_state = 42)\n",
    "from pprint import pprint\n",
    "# Look at parameters used by our current forest\n",
    "print('Parameters currently in use:\\n')\n",
    "pprint(rf.get_params())\n",
    "#Parameters currently in use:\n",
    "\n",
    "{'bootstrap': True,\n",
    " 'criterion': 'mse',\n",
    " 'max_depth': None,\n",
    " 'max_features': 'auto',\n",
    " 'max_leaf_nodes': None,\n",
    " 'min_impurity_decrease': 0.0,\n",
    " 'min_impurity_split': None,\n",
    " 'min_samples_leaf': 1,\n",
    " 'min_samples_split': 2,\n",
    " 'min_weight_fraction_leaf': 0.0,\n",
    " 'n_estimators': 10,\n",
    " 'n_jobs': 1,\n",
    " 'oob_score': False,\n",
    " 'random_state': 42,\n",
    " 'verbose': 0,\n",
    " 'warm_start': False}"
   ]
  },
  {
   "cell_type": "code",
   "execution_count": 10,
   "metadata": {},
   "outputs": [
    {
     "name": "stdout",
     "output_type": "stream",
     "text": [
      "{'bootstrap': [True, False],\n",
      " 'max_depth': [10, 20, 30, 40, 50, 60, 70, 80, 90, 100, 110, None],\n",
      " 'max_features': ['auto', 'sqrt'],\n",
      " 'min_samples_leaf': [1, 2, 4],\n",
      " 'min_samples_split': [2, 5, 10],\n",
      " 'n_estimators': [200, 400, 600, 800, 1000, 1200, 1400, 1600, 1800, 2000]}\n"
     ]
    },
    {
     "data": {
      "text/plain": [
       "{'bootstrap': [True, False],\n",
       " 'max_depth': [10, 20, 30, 40, 50, 60, 70, 80, 90, 100, None],\n",
       " 'max_features': ['auto', 'sqrt'],\n",
       " 'min_samples_leaf': [1, 2, 4],\n",
       " 'min_samples_split': [2, 5, 10],\n",
       " 'n_estimators': [200, 400, 600, 800, 1000, 1200, 1400, 1600, 1800, 2000]}"
      ]
     },
     "execution_count": 10,
     "metadata": {},
     "output_type": "execute_result"
    }
   ],
   "source": [
    "from sklearn.model_selection import RandomizedSearchCV\n",
    "# Number of trees in random forest\n",
    "n_estimators = [int(x) for x in np.linspace(start = 200, stop = 2000, num = 10)]\n",
    "# Number of features to consider at every split\n",
    "max_features = ['auto', 'sqrt']\n",
    "# Maximum number of levels in tree\n",
    "max_depth = [int(x) for x in np.linspace(10, 110, num = 11)]\n",
    "max_depth.append(None)\n",
    "# Minimum number of samples required to split a node\n",
    "min_samples_split = [2, 5, 10]\n",
    "# Minimum number of samples required at each leaf node\n",
    "min_samples_leaf = [1, 2, 4]\n",
    "# Method of selecting samples for training each tree\n",
    "bootstrap = [True, False]\n",
    "# Create the random grid\n",
    "random_grid = {'n_estimators': n_estimators,\n",
    "               'max_features': max_features,\n",
    "               'max_depth': max_depth,\n",
    "               'min_samples_split': min_samples_split,\n",
    "               'min_samples_leaf': min_samples_leaf,\n",
    "               'bootstrap': bootstrap}\n",
    "pprint(random_grid)\n",
    "{'bootstrap': [True, False],\n",
    " 'max_depth': [10, 20, 30, 40, 50, 60, 70, 80, 90, 100, None],\n",
    " 'max_features': ['auto', 'sqrt'],\n",
    " 'min_samples_leaf': [1, 2, 4],\n",
    " 'min_samples_split': [2, 5, 10],\n",
    " 'n_estimators': [200, 400, 600, 800, 1000, 1200, 1400, 1600, 1800, 2000]}"
   ]
  },
  {
   "cell_type": "code",
   "execution_count": 17,
   "metadata": {},
   "outputs": [
    {
     "name": "stdout",
     "output_type": "stream",
     "text": [
      "Fitting 3 folds for each of 100 candidates, totalling 300 fits\n"
     ]
    },
    {
     "name": "stderr",
     "output_type": "stream",
     "text": [
      "[Parallel(n_jobs=-1)]: Done  33 tasks      | elapsed:  1.7min\n",
      "[Parallel(n_jobs=-1)]: Done 154 tasks      | elapsed:  5.5min\n",
      "[Parallel(n_jobs=-1)]: Done 300 out of 300 | elapsed: 11.9min finished\n"
     ]
    },
    {
     "data": {
      "text/plain": [
       "RandomizedSearchCV(cv=3, error_score='raise',\n",
       "          estimator=RandomForestRegressor(bootstrap=True, criterion='mse', max_depth=None,\n",
       "           max_features='auto', max_leaf_nodes=None,\n",
       "           min_impurity_decrease=0.0, min_impurity_split=None,\n",
       "           min_samples_leaf=1, min_samples_split=2,\n",
       "           min_weight_fraction_leaf=0.0, n_estimators=10, n_jobs=1,\n",
       "           oob_score=False, random_state=None, verbose=0, warm_start=False),\n",
       "          fit_params=None, iid=True, n_iter=100, n_jobs=-1,\n",
       "          param_distributions={'n_estimators': [200, 400, 600, 800, 1000, 1200, 1400, 1600, 1800, 2000], 'max_features': ['auto', 'sqrt'], 'max_depth': [10, 20, 30, 40, 50, 60, 70, 80, 90, 100, 110, None], 'min_samples_split': [2, 5, 10], 'min_samples_leaf': [1, 2, 4], 'bootstrap': [True, False]},\n",
       "          pre_dispatch='2*n_jobs', random_state=42, refit=True,\n",
       "          return_train_score='warn', scoring=None, verbose=2)"
      ]
     },
     "execution_count": 17,
     "metadata": {},
     "output_type": "execute_result"
    }
   ],
   "source": [
    "from sklearn.ensemble import RandomForestRegressor\n",
    "# Use the random grid to search for best hyperparameters\n",
    "# First create the base model to tune\n",
    "rf = RandomForestRegressor()\n",
    "# Random search of parameters, using 3 fold cross validation, \n",
    "# search across 100 different combinations, and use all available cores\n",
    "rf_random = RandomizedSearchCV(estimator = rf, param_distributions = random_grid, n_iter = 100, cv = 3, verbose=2, random_state=42, n_jobs = -1)\n",
    "# Fit the random search model\n",
    "rf_random.fit(train_x, train_y)"
   ]
  },
  {
   "cell_type": "code",
   "execution_count": 18,
   "metadata": {},
   "outputs": [
    {
     "data": {
      "text/plain": [
       "{'bootstrap': False,\n",
       " 'max_depth': 60,\n",
       " 'max_features': 'sqrt',\n",
       " 'min_samples_leaf': 1,\n",
       " 'min_samples_split': 5,\n",
       " 'n_estimators': 600}"
      ]
     },
     "execution_count": 18,
     "metadata": {},
     "output_type": "execute_result"
    }
   ],
   "source": [
    "rf_random.best_params_"
   ]
  }
 ],
 "metadata": {
  "kernelspec": {
   "display_name": "Python 3",
   "language": "python",
   "name": "python3"
  },
  "language_info": {
   "codemirror_mode": {
    "name": "ipython",
    "version": 3
   },
   "file_extension": ".py",
   "mimetype": "text/x-python",
   "name": "python",
   "nbconvert_exporter": "python",
   "pygments_lexer": "ipython3",
   "version": "3.7.1"
  }
 },
 "nbformat": 4,
 "nbformat_minor": 2
}
